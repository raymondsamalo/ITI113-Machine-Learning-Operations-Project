{
 "cells": [
  {
   "cell_type": "markdown",
   "id": "416f4226",
   "metadata": {},
   "source": [
    "# Data Preprocessing\n",
    "## Load Data And Dependencies"
   ]
  },
  {
   "cell_type": "code",
   "execution_count": 1,
   "id": "a92f3cbc",
   "metadata": {},
   "outputs": [],
   "source": [
    "import os\n",
    "import pandas as pd\n",
    "import numpy as np\n",
    "import matplotlib.pyplot as plt\n",
    "import seaborn as sns\n",
    "from sklearn.model_selection import train_test_split"
   ]
  },
  {
   "cell_type": "code",
   "execution_count": 2,
   "id": "d3d683ec",
   "metadata": {},
   "outputs": [
    {
     "name": "stdout",
     "output_type": "stream",
     "text": [
      "shape of data (10000, 14)\n",
      "<class 'pandas.core.frame.DataFrame'>\n",
      "RangeIndex: 10000 entries, 0 to 9999\n",
      "Data columns (total 14 columns):\n",
      " #   Column                   Non-Null Count  Dtype  \n",
      "---  ------                   --------------  -----  \n",
      " 0   UDI                      10000 non-null  int64  \n",
      " 1   Product ID               10000 non-null  object \n",
      " 2   Type                     10000 non-null  object \n",
      " 3   Air temperature [K]      10000 non-null  float64\n",
      " 4   Process temperature [K]  10000 non-null  float64\n",
      " 5   Rotational speed [rpm]   10000 non-null  int64  \n",
      " 6   Torque [Nm]              10000 non-null  float64\n",
      " 7   Tool wear [min]          10000 non-null  int64  \n",
      " 8   Machine failure          10000 non-null  int64  \n",
      " 9   TWF                      10000 non-null  int64  \n",
      " 10  HDF                      10000 non-null  int64  \n",
      " 11  PWF                      10000 non-null  int64  \n",
      " 12  OSF                      10000 non-null  int64  \n",
      " 13  RNF                      10000 non-null  int64  \n",
      "dtypes: float64(3), int64(9), object(2)\n",
      "memory usage: 1.1+ MB\n"
     ]
    }
   ],
   "source": [
    "os.makedirs(\"data\", mode=0o777, exist_ok=True)\n",
    "\n",
    "df=pd.read_csv('ai4i2020.csv')\n",
    "print(f\"shape of data {df.shape}\")\n",
    "df.info()"
   ]
  },
  {
   "cell_type": "code",
   "execution_count": 3,
   "id": "17df26fc",
   "metadata": {},
   "outputs": [
    {
     "data": {
      "text/html": [
       "<div>\n",
       "<style scoped>\n",
       "    .dataframe tbody tr th:only-of-type {\n",
       "        vertical-align: middle;\n",
       "    }\n",
       "\n",
       "    .dataframe tbody tr th {\n",
       "        vertical-align: top;\n",
       "    }\n",
       "\n",
       "    .dataframe thead th {\n",
       "        text-align: right;\n",
       "    }\n",
       "</style>\n",
       "<table border=\"1\" class=\"dataframe\">\n",
       "  <thead>\n",
       "    <tr style=\"text-align: right;\">\n",
       "      <th></th>\n",
       "      <th>UDI</th>\n",
       "      <th>Product ID</th>\n",
       "      <th>Type</th>\n",
       "      <th>Air temperature [K]</th>\n",
       "      <th>Process temperature [K]</th>\n",
       "      <th>Rotational speed [rpm]</th>\n",
       "      <th>Torque [Nm]</th>\n",
       "      <th>Tool wear [min]</th>\n",
       "      <th>Machine failure</th>\n",
       "      <th>TWF</th>\n",
       "      <th>HDF</th>\n",
       "      <th>PWF</th>\n",
       "      <th>OSF</th>\n",
       "      <th>RNF</th>\n",
       "    </tr>\n",
       "  </thead>\n",
       "  <tbody>\n",
       "    <tr>\n",
       "      <th>0</th>\n",
       "      <td>1</td>\n",
       "      <td>M14860</td>\n",
       "      <td>M</td>\n",
       "      <td>298.1</td>\n",
       "      <td>308.6</td>\n",
       "      <td>1551</td>\n",
       "      <td>42.8</td>\n",
       "      <td>0</td>\n",
       "      <td>0</td>\n",
       "      <td>0</td>\n",
       "      <td>0</td>\n",
       "      <td>0</td>\n",
       "      <td>0</td>\n",
       "      <td>0</td>\n",
       "    </tr>\n",
       "    <tr>\n",
       "      <th>1</th>\n",
       "      <td>2</td>\n",
       "      <td>L47181</td>\n",
       "      <td>L</td>\n",
       "      <td>298.2</td>\n",
       "      <td>308.7</td>\n",
       "      <td>1408</td>\n",
       "      <td>46.3</td>\n",
       "      <td>3</td>\n",
       "      <td>0</td>\n",
       "      <td>0</td>\n",
       "      <td>0</td>\n",
       "      <td>0</td>\n",
       "      <td>0</td>\n",
       "      <td>0</td>\n",
       "    </tr>\n",
       "    <tr>\n",
       "      <th>2</th>\n",
       "      <td>3</td>\n",
       "      <td>L47182</td>\n",
       "      <td>L</td>\n",
       "      <td>298.1</td>\n",
       "      <td>308.5</td>\n",
       "      <td>1498</td>\n",
       "      <td>49.4</td>\n",
       "      <td>5</td>\n",
       "      <td>0</td>\n",
       "      <td>0</td>\n",
       "      <td>0</td>\n",
       "      <td>0</td>\n",
       "      <td>0</td>\n",
       "      <td>0</td>\n",
       "    </tr>\n",
       "    <tr>\n",
       "      <th>3</th>\n",
       "      <td>4</td>\n",
       "      <td>L47183</td>\n",
       "      <td>L</td>\n",
       "      <td>298.2</td>\n",
       "      <td>308.6</td>\n",
       "      <td>1433</td>\n",
       "      <td>39.5</td>\n",
       "      <td>7</td>\n",
       "      <td>0</td>\n",
       "      <td>0</td>\n",
       "      <td>0</td>\n",
       "      <td>0</td>\n",
       "      <td>0</td>\n",
       "      <td>0</td>\n",
       "    </tr>\n",
       "    <tr>\n",
       "      <th>4</th>\n",
       "      <td>5</td>\n",
       "      <td>L47184</td>\n",
       "      <td>L</td>\n",
       "      <td>298.2</td>\n",
       "      <td>308.7</td>\n",
       "      <td>1408</td>\n",
       "      <td>40.0</td>\n",
       "      <td>9</td>\n",
       "      <td>0</td>\n",
       "      <td>0</td>\n",
       "      <td>0</td>\n",
       "      <td>0</td>\n",
       "      <td>0</td>\n",
       "      <td>0</td>\n",
       "    </tr>\n",
       "  </tbody>\n",
       "</table>\n",
       "</div>"
      ],
      "text/plain": [
       "   UDI Product ID Type  Air temperature [K]  Process temperature [K]  \\\n",
       "0    1     M14860    M                298.1                    308.6   \n",
       "1    2     L47181    L                298.2                    308.7   \n",
       "2    3     L47182    L                298.1                    308.5   \n",
       "3    4     L47183    L                298.2                    308.6   \n",
       "4    5     L47184    L                298.2                    308.7   \n",
       "\n",
       "   Rotational speed [rpm]  Torque [Nm]  Tool wear [min]  Machine failure  TWF  \\\n",
       "0                    1551         42.8                0                0    0   \n",
       "1                    1408         46.3                3                0    0   \n",
       "2                    1498         49.4                5                0    0   \n",
       "3                    1433         39.5                7                0    0   \n",
       "4                    1408         40.0                9                0    0   \n",
       "\n",
       "   HDF  PWF  OSF  RNF  \n",
       "0    0    0    0    0  \n",
       "1    0    0    0    0  \n",
       "2    0    0    0    0  \n",
       "3    0    0    0    0  \n",
       "4    0    0    0    0  "
      ]
     },
     "execution_count": 3,
     "metadata": {},
     "output_type": "execute_result"
    }
   ],
   "source": [
    "df.head()"
   ]
  },
  {
   "cell_type": "code",
   "execution_count": 4,
   "id": "f9175ee3",
   "metadata": {},
   "outputs": [
    {
     "name": "stdout",
     "output_type": "stream",
     "text": [
      "Unique values in each column:\n",
      "UDI                            \t10000 values\n",
      "Product ID                     \t10000 values\n",
      "Type                           \t['M' 'L' 'H']\n",
      "Air temperature [K]            \t93 values\n",
      "Process temperature [K]        \t82 values\n",
      "Rotational speed [rpm]         \t941 values\n",
      "Torque [Nm]                    \t577 values\n",
      "Tool wear [min]                \t246 values\n",
      "Machine failure                \t[0 1]\n",
      "TWF                            \t[0 1]\n",
      "HDF                            \t[0 1]\n",
      "PWF                            \t[0 1]\n",
      "OSF                            \t[0 1]\n",
      "RNF                            \t[0 1]\n"
     ]
    }
   ],
   "source": [
    "print(\"Unique values in each column:\")\n",
    "for col in df.columns:\n",
    "    unique_values = df[col].unique()\n",
    "    if len(unique_values) < 10:\n",
    "        print(f\"{col:30} \\t{unique_values}\")\n",
    "    else:   \n",
    "        print(f\"{col:30} \\t{len(df[col].unique())} values\")"
   ]
  },
  {
   "cell_type": "markdown",
   "id": "811ebac4",
   "metadata": {},
   "source": [
    "From the unique values analysis above, we know that UDI and Product ID can be removed.\n",
    "\n",
    "Both columns has 1000 unique values and we have 1000 rows of samples. \n",
    "\n",
    "Hence, the values are unique for each sample."
   ]
  },
  {
   "cell_type": "markdown",
   "id": "61222f1d",
   "metadata": {},
   "source": [
    "## Remove Row Unique ID and Product ID"
   ]
  },
  {
   "cell_type": "code",
   "execution_count": 5,
   "id": "d8523a44",
   "metadata": {},
   "outputs": [
    {
     "name": "stdout",
     "output_type": "stream",
     "text": [
      "shape of data after dropping columns (10000, 12)\n"
     ]
    }
   ],
   "source": [
    "df.drop(columns=['UDI', 'Product ID'], inplace=True)\n",
    "print(f\"shape of data after dropping columns {df.shape}\")"
   ]
  },
  {
   "cell_type": "markdown",
   "id": "0cc8f8a5",
   "metadata": {},
   "source": [
    "## Change Feature Names to Remove Brackets"
   ]
  },
  {
   "cell_type": "markdown",
   "id": "7bb6c297",
   "metadata": {},
   "source": [
    "Some classifiers like XGBoost does not like features with special symbols and throws exception\n",
    "\n",
    "ValueError('feature_names may not contain [, ] or <')"
   ]
  },
  {
   "cell_type": "code",
   "execution_count": 6,
   "id": "47c945c0",
   "metadata": {},
   "outputs": [
    {
     "name": "stdout",
     "output_type": "stream",
     "text": [
      "DF columns after clean up Index(['Type', 'Air temperature (K)', 'Process temperature (K)',\n",
      "       'Rotational speed (rpm)', 'Torque (Nm)', 'Tool wear (min)',\n",
      "       'Machine failure', 'TWF', 'HDF', 'PWF', 'OSF', 'RNF'],\n",
      "      dtype='object')\n"
     ]
    }
   ],
   "source": [
    "df.columns = [col.replace(\"[\",\"(\").replace(\"]\",\")\") for col in df.columns.values]\n",
    "print(\"DF columns after clean up\", df.columns)\n"
   ]
  },
  {
   "cell_type": "markdown",
   "id": "117ba582",
   "metadata": {},
   "source": [
    "## Max and Min For Numeric Values"
   ]
  },
  {
   "cell_type": "code",
   "execution_count": 7,
   "id": "96f1cfd6",
   "metadata": {},
   "outputs": [
    {
     "data": {
      "text/html": [
       "<div>\n",
       "<style scoped>\n",
       "    .dataframe tbody tr th:only-of-type {\n",
       "        vertical-align: middle;\n",
       "    }\n",
       "\n",
       "    .dataframe tbody tr th {\n",
       "        vertical-align: top;\n",
       "    }\n",
       "\n",
       "    .dataframe thead th {\n",
       "        text-align: right;\n",
       "    }\n",
       "</style>\n",
       "<table border=\"1\" class=\"dataframe\">\n",
       "  <thead>\n",
       "    <tr style=\"text-align: right;\">\n",
       "      <th></th>\n",
       "      <th>count</th>\n",
       "      <th>mean</th>\n",
       "      <th>std</th>\n",
       "      <th>min</th>\n",
       "      <th>25%</th>\n",
       "      <th>50%</th>\n",
       "      <th>75%</th>\n",
       "      <th>max</th>\n",
       "    </tr>\n",
       "  </thead>\n",
       "  <tbody>\n",
       "    <tr>\n",
       "      <th>Air temperature (K)</th>\n",
       "      <td>10000.0</td>\n",
       "      <td>300.00493</td>\n",
       "      <td>2.000259</td>\n",
       "      <td>295.3</td>\n",
       "      <td>298.3</td>\n",
       "      <td>300.1</td>\n",
       "      <td>301.5</td>\n",
       "      <td>304.5</td>\n",
       "    </tr>\n",
       "    <tr>\n",
       "      <th>Process temperature (K)</th>\n",
       "      <td>10000.0</td>\n",
       "      <td>310.00556</td>\n",
       "      <td>1.483734</td>\n",
       "      <td>305.7</td>\n",
       "      <td>308.8</td>\n",
       "      <td>310.1</td>\n",
       "      <td>311.1</td>\n",
       "      <td>313.8</td>\n",
       "    </tr>\n",
       "    <tr>\n",
       "      <th>Rotational speed (rpm)</th>\n",
       "      <td>10000.0</td>\n",
       "      <td>1538.77610</td>\n",
       "      <td>179.284096</td>\n",
       "      <td>1168.0</td>\n",
       "      <td>1423.0</td>\n",
       "      <td>1503.0</td>\n",
       "      <td>1612.0</td>\n",
       "      <td>2886.0</td>\n",
       "    </tr>\n",
       "    <tr>\n",
       "      <th>Torque (Nm)</th>\n",
       "      <td>10000.0</td>\n",
       "      <td>39.98691</td>\n",
       "      <td>9.968934</td>\n",
       "      <td>3.8</td>\n",
       "      <td>33.2</td>\n",
       "      <td>40.1</td>\n",
       "      <td>46.8</td>\n",
       "      <td>76.6</td>\n",
       "    </tr>\n",
       "    <tr>\n",
       "      <th>Tool wear (min)</th>\n",
       "      <td>10000.0</td>\n",
       "      <td>107.95100</td>\n",
       "      <td>63.654147</td>\n",
       "      <td>0.0</td>\n",
       "      <td>53.0</td>\n",
       "      <td>108.0</td>\n",
       "      <td>162.0</td>\n",
       "      <td>253.0</td>\n",
       "    </tr>\n",
       "  </tbody>\n",
       "</table>\n",
       "</div>"
      ],
      "text/plain": [
       "                           count        mean         std     min     25%  \\\n",
       "Air temperature (K)      10000.0   300.00493    2.000259   295.3   298.3   \n",
       "Process temperature (K)  10000.0   310.00556    1.483734   305.7   308.8   \n",
       "Rotational speed (rpm)   10000.0  1538.77610  179.284096  1168.0  1423.0   \n",
       "Torque (Nm)              10000.0    39.98691    9.968934     3.8    33.2   \n",
       "Tool wear (min)          10000.0   107.95100   63.654147     0.0    53.0   \n",
       "\n",
       "                            50%     75%     max  \n",
       "Air temperature (K)       300.1   301.5   304.5  \n",
       "Process temperature (K)   310.1   311.1   313.8  \n",
       "Rotational speed (rpm)   1503.0  1612.0  2886.0  \n",
       "Torque (Nm)                40.1    46.8    76.6  \n",
       "Tool wear (min)           108.0   162.0   253.0  "
      ]
     },
     "execution_count": 7,
     "metadata": {},
     "output_type": "execute_result"
    }
   ],
   "source": [
    "exclude = ['Type','Machine failure', 'TWF', 'HDF', 'PWF', 'OSF', 'RNF']\n",
    "df.drop(exclude, axis=1).describe().T"
   ]
  },
  {
   "cell_type": "markdown",
   "id": "fb5c4670",
   "metadata": {},
   "source": [
    "## Convert Type From Category To Numeric"
   ]
  },
  {
   "cell_type": "code",
   "execution_count": 8,
   "id": "847136a9",
   "metadata": {},
   "outputs": [
    {
     "name": "stdout",
     "output_type": "stream",
     "text": [
      " Type  Unique Values after encoding:  [1 0 2]\n"
     ]
    }
   ],
   "source": [
    "df['Type'] = df['Type'].astype('category')\n",
    "type_mapping = {'L': 0, 'M': 1, 'H': 2}\n",
    "df['Type'] = df['Type'].map(type_mapping).astype('int')\n",
    "print(\" Type  Unique Values after encoding: \", df['Type'].unique())"
   ]
  },
  {
   "cell_type": "markdown",
   "id": "6ecfe959",
   "metadata": {},
   "source": [
    "## Check for Duplicates And Missing Data"
   ]
  },
  {
   "cell_type": "code",
   "execution_count": 9,
   "id": "478d263d",
   "metadata": {},
   "outputs": [
    {
     "name": "stdout",
     "output_type": "stream",
     "text": [
      "number of duplicated rows :  0\n",
      "number of null values :  0\n"
     ]
    }
   ],
   "source": [
    "print(\"number of duplicated rows : \", df.duplicated().sum())\n",
    "print(\"number of null values : \", df.isnull().sum().sum())"
   ]
  },
  {
   "cell_type": "markdown",
   "id": "6c237085",
   "metadata": {},
   "source": [
    "Our data does not seem to have any duplicate or missing data.\n",
    "This is given the data is synthetic data created through simulation."
   ]
  },
  {
   "cell_type": "markdown",
   "id": "46faeab5",
   "metadata": {},
   "source": [
    "## Check Our Target and Label For Mismatch"
   ]
  },
  {
   "cell_type": "markdown",
   "id": "69e6adbc",
   "metadata": {},
   "source": [
    "We want to check whether there is any machine failures that are not attributed to the 5 known failures\n",
    "\n",
    "This should be changed to non failure as RNF already handled random failure.\n",
    "\n",
    "Hence, this is data error and should have been a pass"
   ]
  },
  {
   "cell_type": "code",
   "execution_count": 10,
   "id": "8d3db47b",
   "metadata": {},
   "outputs": [
    {
     "name": "stdout",
     "output_type": "stream",
     "text": [
      "Number of machine failures: 339\n",
      "Number of failures due to unknown reasons: 9\n",
      "Number of failures due to unknown reasons after fix: 0\n"
     ]
    }
   ],
   "source": [
    "# check machine failure\n",
    "def unknown_fail_check(row): return ((row['Machine failure'] == 1)\n",
    "                                     & (row['RNF'] == 0)\n",
    "                                     & (row['HDF'] == 0)\n",
    "                                     & (row['TWF'] == 0)\n",
    "                                     & (row['PWF'] == 0)\n",
    "                                     & (row['OSF'] == 0))\n",
    "\n",
    "\n",
    "print(f\"Number of machine failures: {df['Machine failure'].sum()}\")\n",
    "unknown_failures = df[unknown_fail_check(df)]\n",
    "print(\n",
    "    f\"Number of failures due to unknown reasons: {len(unknown_failures)}\")\n",
    "unknown_failures.loc[:, ['Machine failure',\n",
    "                         'TWF', 'HDF', 'PWF', 'OSF', 'RNF']].head(10)\n",
    "df['Machine failure'] = np.where(\n",
    "    unknown_fail_check(df), 0, df['Machine failure'])\n",
    "unknown_failures = df[unknown_fail_check(df)]\n",
    "print(\n",
    "    f\"Number of failures due to unknown reasons after fix: {len(unknown_failures)}\")"
   ]
  },
  {
   "cell_type": "code",
   "execution_count": 11,
   "id": "dcb38e57",
   "metadata": {},
   "outputs": [
    {
     "name": "stdout",
     "output_type": "stream",
     "text": [
      "Number of samples that passed although failed: 18\n",
      "Number of samples that passed although failed after fix: 0\n"
     ]
    }
   ],
   "source": [
    "\n",
    "def pass_yet_fail_check(row): return (row['Machine failure'] == 0) & ((row['RNF'] == 1)\n",
    "                                                                     | (row['HDF'] == 1)\n",
    "                                                                     | (row['TWF'] == 1)\n",
    "                                                                     | (row['PWF'] == 1)\n",
    "                                                                     | (row['OSF'] == 1))\n",
    "passed_although_failed = df[pass_yet_fail_check(df)]\n",
    "print(\n",
    "    f\"Number of samples that passed although failed: {len(passed_although_failed)}\")\n",
    "passed_although_failed.loc[:, ['Machine failure',\n",
    "                               'TWF', 'HDF', 'PWF', 'OSF', 'RNF']].head(10)\n",
    "df['Machine failure'] = np.where(\n",
    "    pass_yet_fail_check(df), 1, df['Machine failure'])\n",
    "passed_although_failed = df[pass_yet_fail_check(df)]\n",
    "print(\n",
    "    f\"Number of samples that passed although failed after fix: {len(passed_although_failed)}\")\n"
   ]
  },
  {
   "cell_type": "markdown",
   "id": "4e6c4016",
   "metadata": {},
   "source": [
    "## Add New Features"
   ]
  },
  {
   "cell_type": "markdown",
   "id": "edcc58fb",
   "metadata": {},
   "source": [
    "From https://archive.ics.uci.edu/dataset/601/ai4i+2020+predictive+maintenance+dataset or https://www.kaggle.com/datasets/stephanmatzka/predictive-maintenance-dataset-ai4i-2020/data\n",
    "\n",
    "We learned:\n",
    "\n",
    "- tool wear failure (TWF): the tool will be replaced of fail at a randomly selected tool wear time between 200 - 240 mins (120 times in our dataset). At this point in time, the tool is replaced 69 times, and fails 51 times (randomly assigned).\n",
    "\n",
    "- heat dissipation failure (HDF): heat dissipation causes a process failure, if the difference between air- and process temperature is below 8.6 K and the tools rotational speed is below 1380 rpm. This is the case for 115 data points.\n",
    "\n",
    "- power failure (PWF): the product of torque and rotational speed (in rad/s) equals the power required for the process. If this power is below 3500 W or above 9000 W, the process fails, which is the case 95 times in our dataset.\n",
    "\n",
    "- overstrain failure (OSF): if the product of tool wear and torque exceeds 11,000 minNm for the L product variant (12,000 M, 13,000 H), the process fails due to overstrain. This is true for 98 datapoints.\n",
    "\n",
    "- random failures (RNF): each process has a chance of 0,1 % to fail regardless of its process parameters. This is the case for only 5 datapoints, less than could be expected for 10,000 datapoints in our dataset.\n",
    "\n",
    "If at least one of the above failure modes is true, the process fails and the 'machine failure' label is set to 1. It is therefore not transparent to the machine learning method, which of the failure modes has caused the process to fail.\n",
    "\n"
   ]
  },
  {
   "cell_type": "markdown",
   "id": "b451f407",
   "metadata": {},
   "source": [
    "From what we learned from our dataset documentation and our confirmed by our correlation study,\n",
    "the failures are related to these 3 features:\n",
    "- Strain (minNm) = Product of Tool Wear and Torgue\n",
    "- Power (W) = Product of rational speed and Torque\n",
    "- Temperature Difference (K) = difference of Process and Air Temperatures\n",
    "\n",
    "Let's add these features to our dataset"
   ]
  },
  {
   "cell_type": "code",
   "execution_count": 12,
   "id": "3dc8e48f",
   "metadata": {},
   "outputs": [],
   "source": [
    "df['Strain (minNm)'] = df['Tool wear (min)'] * df['Torque (Nm)'] \n",
    "df['Power (W)'] = df['Rotational speed (rpm)'] * df['Torque (Nm)'] * 2 * np.pi / 60\n",
    "df['Temperature Difference (K)'] = df['Process temperature (K)'] - df['Air temperature (K)']"
   ]
  },
  {
   "cell_type": "markdown",
   "id": "5876e59f",
   "metadata": {},
   "source": [
    "## Correlation Study"
   ]
  },
  {
   "cell_type": "code",
   "execution_count": 13,
   "id": "c7624dd0",
   "metadata": {},
   "outputs": [
    {
     "name": "stdout",
     "output_type": "stream",
     "text": [
      "Features/Non failure columns ['Type', 'Air temperature (K)', 'Process temperature (K)', 'Rotational speed (rpm)', 'Torque (Nm)', 'Tool wear (min)', 'Strain (minNm)', 'Power (W)', 'Temperature Difference (K)']\n",
      "Target/Failure columns ['Type', 'Air temperature (K)', 'Process temperature (K)', 'Rotational speed (rpm)', 'Torque (Nm)', 'Tool wear (min)', 'Strain (minNm)', 'Power (W)', 'Temperature Difference (K)']\n"
     ]
    }
   ],
   "source": [
    "correlation_matrix = df.corr()\n",
    "failure_columns = ['Machine failure', 'TWF', 'HDF', 'PWF', 'OSF', 'RNF']\n",
    "non_failure_columns = [col for col in df.columns if col not in failure_columns]\n",
    "correlation_matrix_abs = correlation_matrix.abs()\n",
    "print(\"Features/Non failure columns\", non_failure_columns)\n",
    "print(\"Target/Failure columns\", non_failure_columns)"
   ]
  },
  {
   "cell_type": "markdown",
   "id": "6039b0bf",
   "metadata": {},
   "source": [
    "### Correlation HeatMap"
   ]
  },
  {
   "cell_type": "markdown",
   "id": "02528cde",
   "metadata": {},
   "source": [
    "Let's plot correlation heatmap for original features without failures"
   ]
  },
  {
   "cell_type": "code",
   "execution_count": 14,
   "id": "f02d8185",
   "metadata": {},
   "outputs": [],
   "source": [
    "failure_columns = [ 'TWF', 'HDF', 'PWF', 'OSF', 'RNF']\n",
    "new_features = ['Strain (minNm)', 'Power (W)', 'Temperature Difference (K)']\n",
    "exclude_columns=failure_columns+new_features\n",
    "original_features = [col for col in df.columns if col not in exclude_columns]\n",
    "dfc=df[original_features]\n",
    "dfc_cor_matrix= dfc.corr()"
   ]
  },
  {
   "cell_type": "code",
   "execution_count": 15,
   "id": "fb259b06",
   "metadata": {},
   "outputs": [
    {
     "data": {
      "image/png": "[encoded data removed]",
      "text/plain": [
       "<Figure size 2000x500 with 4 Axes>"
      ]
     },
     "metadata": {},
     "output_type": "display_data"
    }
   ],
   "source": [
    "plt.figure(figsize=(20, 5))\n",
    "plt.subplot(1,2,1)\n",
    "sns.heatmap(dfc_cor_matrix, annot=True, fmt=\".2f\", cmap='coolwarm', square=True, cbar_kws={\"shrink\": .8})\n",
    "plt.title('Correlation Heatmap For Original Features')\n",
    "plt.subplot(1,2,2)\n",
    "threshold = 0.8\n",
    "mask = np.abs(dfc_cor_matrix) < threshold\n",
    "sns.heatmap(dfc_cor_matrix, mask=mask, annot=True, fmt=\".2f\", cmap='coolwarm', square=True, cbar_kws={\"shrink\": .8})\n",
    "plt.title('Correlation Heatmap Masked')\n",
    "plt.show()\n"
   ]
  },
  {
   "cell_type": "markdown",
   "id": "020b0ddf",
   "metadata": {},
   "source": [
    "From the correlation heat map, we do not see many strong correlation except for :\n",
    "- Process Temperature and Air Temperature\n",
    "- Rotational Speed and Torque (inverse relationship)\n",
    "\n"
   ]
  },
  {
   "cell_type": "markdown",
   "id": "598db7e7",
   "metadata": {},
   "source": [
    "### Correlation For Label/Failures"
   ]
  },
  {
   "cell_type": "code",
   "execution_count": 16,
   "id": "d3fdaf30",
   "metadata": {},
   "outputs": [
    {
     "name": "stdout",
     "output_type": "stream",
     "text": [
      "- Machine failure correlation:\n",
      " - HDF                            0.57\n",
      " - OSF                            0.52\n",
      " - PWF                            0.52\n",
      " - TWF                            0.36\n",
      " - RNF                            0.23\n"
     ]
    }
   ],
   "source": [
    "failure_columns = ['TWF', 'HDF', 'PWF', 'OSF', 'RNF']\n",
    "features_list = list(correlation_matrix_abs.loc[failure_columns, 'Machine failure'].items())\n",
    "features_list.sort(key=lambda x: x[1], reverse=True)\n",
    "print(\"- Machine failure correlation:\")\n",
    "for feature, value in features_list:\n",
    "    if value >= 0.05:\n",
    "        print(f\" - {feature:30} {value:.2f}\")"
   ]
  },
  {
   "cell_type": "markdown",
   "id": "b440a9b8",
   "metadata": {},
   "source": [
    "We learned that Machine Failure is mostly caused by HDF, OSF and PWF \n",
    "\n",
    "TWF and RNF still contribute to Machine Failure but in lesser impact"
   ]
  },
  {
   "cell_type": "code",
   "execution_count": 17,
   "id": "f9600e87",
   "metadata": {},
   "outputs": [
    {
     "name": "stdout",
     "output_type": "stream",
     "text": [
      "- TWF:\n",
      "\t- Tool wear (min)                0.12\n",
      "- HDF:\n",
      "\t- Temperature Difference (K)     0.19\n",
      "\t- Torque (Nm)                    0.14\n",
      "\t- Air temperature (K)            0.14\n",
      "\t- Rotational speed (rpm)         0.12\n",
      "\t- Power (W)                      0.12\n",
      "- PWF:\n",
      "\t- Rotational speed (rpm)         0.12\n",
      "- OSF:\n",
      "\t- Strain (minNm)                 0.27\n",
      "\t- Torque (Nm)                    0.18\n",
      "\t- Power (W)                      0.18\n",
      "\t- Tool wear (min)                0.16\n",
      "\t- Rotational speed (rpm)         0.10\n",
      "- RNF:\n"
     ]
    }
   ],
   "source": [
    "for col in failure_columns:\n",
    "    features_list = list(correlation_matrix_abs.loc[non_failure_columns, col].items())\n",
    "    features_list.sort(key=lambda x: x[1], reverse=True)\n",
    "    print(f\"- {col}:\")\n",
    "    for feature, value in features_list:\n",
    "        if value >= 0.1:\n",
    "            print(f\"\\t- {feature:30} {value:.2f}\")"
   ]
  },
  {
   "cell_type": "markdown",
   "id": "a9df8536",
   "metadata": {},
   "source": [
    "We learned  each failures' correlations in descending order:\n",
    "- TWF:\n",
    "\t- Tool wear (min)                0.12\n",
    "- HDF:\n",
    "\t- Temperature Difference (K)     0.19\n",
    "\t- Torque (Nm)                    0.14\n",
    "\t- Air temperature (K)            0.14\n",
    "\t- Rotational speed (rpm)         0.12\n",
    "\t- Power (W)                      0.12\n",
    "- PWF:\n",
    "\t- Rotational speed (rpm)         0.12\n",
    "- OSF:\n",
    "\t- Strain (minNm)                 0.27\n",
    "\t- Torque (Nm)                    0.18\n",
    "\t- Power (W)                      0.18\n",
    "\t- Tool wear (min)                0.16\n",
    "\t- Rotational speed (rpm)         0.10\n",
    "- RNF:"
   ]
  },
  {
   "cell_type": "markdown",
   "id": "f9501b58",
   "metadata": {},
   "source": [
    "## Save Data"
   ]
  },
  {
   "cell_type": "code",
   "execution_count": 18,
   "id": "0973ff19",
   "metadata": {},
   "outputs": [],
   "source": [
    "df.to_csv('data/ai4i2020_cleaned.csv', index=False)"
   ]
  },
  {
   "cell_type": "markdown",
   "id": "b1c9cda6",
   "metadata": {},
   "source": [
    "## Split Data to Training and Test Data"
   ]
  },
  {
   "cell_type": "code",
   "execution_count": 19,
   "id": "f20fcad4",
   "metadata": {},
   "outputs": [
    {
     "name": "stdout",
     "output_type": "stream",
     "text": [
      "shape of X (10000, 9), shape of y (10000, 6)\n",
      "X columns Index(['Type', 'Air temperature (K)', 'Process temperature (K)',\n",
      "       'Rotational speed (rpm)', 'Torque (Nm)', 'Tool wear (min)',\n",
      "       'Strain (minNm)', 'Power (W)', 'Temperature Difference (K)'],\n",
      "      dtype='object')\n",
      "y columns Index(['Machine failure', 'TWF', 'HDF', 'PWF', 'OSF', 'RNF'], dtype='object')\n"
     ]
    }
   ],
   "source": [
    "labels = ['Machine failure', 'TWF', 'HDF', 'PWF', 'OSF', 'RNF']\n",
    "X = df.drop(columns=labels)\n",
    "y = df[labels]\n",
    "print(f\"shape of X {X.shape}, shape of y {y.shape}\")\n",
    "print(f\"X columns {X.columns}\")\n",
    "print(f\"y columns {y.columns}\")"
   ]
  },
  {
   "cell_type": "code",
   "execution_count": 20,
   "id": "03318c0e",
   "metadata": {},
   "outputs": [],
   "source": [
    "# Split the data into training and test sets\n",
    "# We will use stratified sampling to ensure that the distribution of the target variable is preserved in both sets.\n",
    "# This is important for imbalanced datasets.\n",
    "# We will use a random state of 42 for reproducibility.\n",
    "# We will also use a test size of 20% and a train size of 80%.  \n",
    "X_train, X_test, y_train, y_test = train_test_split(X,y, test_size=0.2, random_state=42,  stratify=y['Machine failure']) \n",
    "df_train=pd.concat([X_train, y_train], axis=1)\n",
    "df_test=pd.concat([X_test, y_test], axis=1)\n"
   ]
  },
  {
   "cell_type": "code",
   "execution_count": 21,
   "id": "610cf726",
   "metadata": {},
   "outputs": [],
   "source": [
    "X_train.to_csv('data/X_train.csv', index=False)\n",
    "y_train.to_csv('data/y_train.csv', index=False)\n",
    "X_test.to_csv('data/X_test.csv', index=False)\n",
    "y_test.to_csv('data/y_test.csv', index=False)"
   ]
  },
  {
   "cell_type": "markdown",
   "id": "954c6915",
   "metadata": {},
   "source": [
    "## Feature Selection"
   ]
  },
  {
   "cell_type": "markdown",
   "id": "8d1757fb",
   "metadata": {},
   "source": [
    "We already know that with the introduction of new features, some features are already encapsulated in our new features. \n",
    "\n",
    "Hence, let's create simplified dataset for both oversampled and original datasets with these features removed."
   ]
  },
  {
   "cell_type": "markdown",
   "id": "7cf67a13",
   "metadata": {},
   "source": [
    "Let's revisit correlation study again for Machine failure"
   ]
  },
  {
   "cell_type": "code",
   "execution_count": 22,
   "id": "5cd16325",
   "metadata": {},
   "outputs": [
    {
     "name": "stdout",
     "output_type": "stream",
     "text": [
      "Machine failure correlation with non-failure features:\n",
      " - Torque (Nm)                    0.19\n",
      " - Strain (minNm)                 0.19\n",
      " - Power (W)                      0.18\n",
      " - Temperature Difference (K)     0.11\n",
      " - Tool wear (min)                0.11\n",
      " - Air temperature (K)            0.08\n",
      " - Rotational speed (rpm)         0.05\n",
      " - Process temperature (K)        0.04\n",
      " - Type                           0.04\n"
     ]
    }
   ],
   "source": [
    "print(\"Machine failure correlation with non-failure features:\")\n",
    "features_list = list(correlation_matrix_abs.loc[non_failure_columns, 'Machine failure'].items())\n",
    "features_list.sort(key=lambda x: x[1], reverse=True)\n",
    "for feature, value in features_list:\n",
    "    print(f\" - {feature:30} {value:.2f}\")"
   ]
  },
  {
   "cell_type": "markdown",
   "id": "70e144ac",
   "metadata": {},
   "source": [
    "Based on our insight from data documentation and confirmed by the correlation above,\n",
    "we should keep:\n",
    " - Strain (minNm)                 \n",
    " - Power (W)                      \n",
    " - Tool wear (min)                \n",
    " - Rotational speed (rpm)         \n",
    " - Type\n",
    "\n",
    " We could remove the following features that is already encapsulated in the new features:\n",
    " - Torque (Nm)\n",
    " - Process temperature (K)\n",
    " - Air temperature (K)"
   ]
  },
  {
   "cell_type": "code",
   "execution_count": 23,
   "id": "f40eae95",
   "metadata": {},
   "outputs": [],
   "source": [
    "redudant_features = ['Torque (Nm)', 'Process temperature (K)', 'Air temperature (K)']\n",
    "X_train_reduced = X_train.drop(columns=redudant_features)\n",
    "X_test_reduced = X_test.drop(columns=redudant_features)"
   ]
  },
  {
   "cell_type": "code",
   "execution_count": 24,
   "id": "631dd315",
   "metadata": {},
   "outputs": [
    {
     "data": {
      "text/plain": [
       "Index(['Type', 'Rotational speed (rpm)', 'Tool wear (min)', 'Strain (minNm)',\n",
       "       'Power (W)', 'Temperature Difference (K)'],\n",
       "      dtype='object')"
      ]
     },
     "execution_count": 24,
     "metadata": {},
     "output_type": "execute_result"
    }
   ],
   "source": [
    "X_train_reduced.columns"
   ]
  },
  {
   "cell_type": "code",
   "execution_count": 25,
   "id": "9e4e19c1",
   "metadata": {},
   "outputs": [
    {
     "data": {
      "text/html": [
       "<div>\n",
       "<style scoped>\n",
       "    .dataframe tbody tr th:only-of-type {\n",
       "        vertical-align: middle;\n",
       "    }\n",
       "\n",
       "    .dataframe tbody tr th {\n",
       "        vertical-align: top;\n",
       "    }\n",
       "\n",
       "    .dataframe thead th {\n",
       "        text-align: right;\n",
       "    }\n",
       "</style>\n",
       "<table border=\"1\" class=\"dataframe\">\n",
       "  <thead>\n",
       "    <tr style=\"text-align: right;\">\n",
       "      <th></th>\n",
       "      <th>Type</th>\n",
       "      <th>Rotational speed (rpm)</th>\n",
       "      <th>Tool wear (min)</th>\n",
       "      <th>Strain (minNm)</th>\n",
       "      <th>Process temperature (K)</th>\n",
       "      <th>Air temperature (K)</th>\n",
       "    </tr>\n",
       "  </thead>\n",
       "  <tbody>\n",
       "    <tr>\n",
       "      <th>count</th>\n",
       "      <td>10000.000000</td>\n",
       "      <td>10000.000000</td>\n",
       "      <td>10000.000000</td>\n",
       "      <td>10000.000000</td>\n",
       "      <td>10000.000000</td>\n",
       "      <td>10000.000000</td>\n",
       "    </tr>\n",
       "    <tr>\n",
       "      <th>mean</th>\n",
       "      <td>0.500300</td>\n",
       "      <td>1538.776100</td>\n",
       "      <td>107.951000</td>\n",
       "      <td>4314.664550</td>\n",
       "      <td>310.005560</td>\n",
       "      <td>300.004930</td>\n",
       "    </tr>\n",
       "    <tr>\n",
       "      <th>std</th>\n",
       "      <td>0.671301</td>\n",
       "      <td>179.284096</td>\n",
       "      <td>63.654147</td>\n",
       "      <td>2826.567692</td>\n",
       "      <td>1.483734</td>\n",
       "      <td>2.000259</td>\n",
       "    </tr>\n",
       "    <tr>\n",
       "      <th>min</th>\n",
       "      <td>0.000000</td>\n",
       "      <td>1168.000000</td>\n",
       "      <td>0.000000</td>\n",
       "      <td>0.000000</td>\n",
       "      <td>305.700000</td>\n",
       "      <td>295.300000</td>\n",
       "    </tr>\n",
       "    <tr>\n",
       "      <th>25%</th>\n",
       "      <td>0.000000</td>\n",
       "      <td>1423.000000</td>\n",
       "      <td>53.000000</td>\n",
       "      <td>1963.650000</td>\n",
       "      <td>308.800000</td>\n",
       "      <td>298.300000</td>\n",
       "    </tr>\n",
       "    <tr>\n",
       "      <th>50%</th>\n",
       "      <td>0.000000</td>\n",
       "      <td>1503.000000</td>\n",
       "      <td>108.000000</td>\n",
       "      <td>4012.950000</td>\n",
       "      <td>310.100000</td>\n",
       "      <td>300.100000</td>\n",
       "    </tr>\n",
       "    <tr>\n",
       "      <th>75%</th>\n",
       "      <td>1.000000</td>\n",
       "      <td>1612.000000</td>\n",
       "      <td>162.000000</td>\n",
       "      <td>6279.000000</td>\n",
       "      <td>311.100000</td>\n",
       "      <td>301.500000</td>\n",
       "    </tr>\n",
       "    <tr>\n",
       "      <th>max</th>\n",
       "      <td>2.000000</td>\n",
       "      <td>2886.000000</td>\n",
       "      <td>253.000000</td>\n",
       "      <td>16497.000000</td>\n",
       "      <td>313.800000</td>\n",
       "      <td>304.500000</td>\n",
       "    </tr>\n",
       "  </tbody>\n",
       "</table>\n",
       "</div>"
      ],
      "text/plain": [
       "               Type  Rotational speed (rpm)  Tool wear (min)  Strain (minNm)  \\\n",
       "count  10000.000000            10000.000000     10000.000000    10000.000000   \n",
       "mean       0.500300             1538.776100       107.951000     4314.664550   \n",
       "std        0.671301              179.284096        63.654147     2826.567692   \n",
       "min        0.000000             1168.000000         0.000000        0.000000   \n",
       "25%        0.000000             1423.000000        53.000000     1963.650000   \n",
       "50%        0.000000             1503.000000       108.000000     4012.950000   \n",
       "75%        1.000000             1612.000000       162.000000     6279.000000   \n",
       "max        2.000000             2886.000000       253.000000    16497.000000   \n",
       "\n",
       "       Process temperature (K)  Air temperature (K)  \n",
       "count             10000.000000         10000.000000  \n",
       "mean                310.005560           300.004930  \n",
       "std                   1.483734             2.000259  \n",
       "min                 305.700000           295.300000  \n",
       "25%                 308.800000           298.300000  \n",
       "50%                 310.100000           300.100000  \n",
       "75%                 311.100000           301.500000  \n",
       "max                 313.800000           304.500000  "
      ]
     },
     "execution_count": 25,
     "metadata": {},
     "output_type": "execute_result"
    }
   ],
   "source": [
    "df[['Type', 'Rotational speed (rpm)', 'Tool wear (min)', 'Strain (minNm)', 'Process temperature (K)', 'Air temperature (K)']].describe()"
   ]
  },
  {
   "cell_type": "code",
   "execution_count": 26,
   "id": "1c4eaa8e",
   "metadata": {},
   "outputs": [],
   "source": [
    "import json\n",
    "spec = {\n",
    "    \"Type\":{\"max\":2,\"min\":0,\"dtype\":\"int\"},\n",
    "    \"Rotational speed (rpm)\":{\"max\":2886.0,\"min\":1168.0,\"dtype\":\"float\"},\n",
    "    \"Tool wear (min)\":{\"max\":253,\"min\":0,\"dtype\":\"float\"},\n",
    "    \"Torque (Nm)\":{\"max\":76.6,\"min\":3.8,\"dtype\":\"float\"},\n",
    "    \"Process temperature (K)\":{\"max\":313.8,\"min\":305.7,\"dtype\":\"float\"},\n",
    "    \"Air temperature (K)\":{\"max\":304.5,\"min\":295.3,\"dtype\":\"float\"}\n",
    "}\n",
    "with open(\"spec.json\",\"w\") as f:\n",
    "    json.dump(spec,f)"
   ]
  }
 ],
 "metadata": {
  "kernelspec": {
   "display_name": "ml",
   "language": "python",
   "name": "python3"
  },
  "language_info": {
   "codemirror_mode": {
    "name": "ipython",
    "version": 3
   },
   "file_extension": ".py",
   "mimetype": "text/x-python",
   "name": "python",
   "nbconvert_exporter": "python",
   "pygments_lexer": "ipython3",
   "version": "3.13.2"
  }
 },
 "nbformat": 4,
 "nbformat_minor": 5
}
