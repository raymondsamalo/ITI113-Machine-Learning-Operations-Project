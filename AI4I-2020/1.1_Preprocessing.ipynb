{
 "cells": [
  {
   "cell_type": "markdown",
   "id": "416f4226",
   "metadata": {},
   "source": [
    "# Data Preprocessing\n",
    "## Load Data And Dependencies"
   ]
  },
  {
   "cell_type": "code",
   "execution_count": 76,
   "id": "a92f3cbc",
   "metadata": {},
   "outputs": [],
   "source": [
    "import pandas as pd\n",
    "import numpy as np\n",
    "import matplotlib.pyplot as plt\n",
    "import seaborn as sns\n",
    "from sklearn.model_selection import train_test_split"
   ]
  },
  {
   "cell_type": "code",
   "execution_count": 77,
   "id": "3481a614",
   "metadata": {},
   "outputs": [],
   "source": [
    "label_descriptions = {\n",
    "    'TWF': 'Tool Wear Failure',\n",
    "    'HDF': 'Heat Dissipation Failure',\n",
    "    'PWF': 'Power Failure',\n",
    "    'OSF': 'Overstrain Failure',\n",
    "    'RNF': 'Random Failure'\n",
    "}"
   ]
  },
  {
   "cell_type": "markdown",
   "id": "0daf3c85",
   "metadata": {},
   "source": [
    "https://archive.ics.uci.edu/dataset/601/ai4i+2020+predictive+maintenance+dataset\n"
   ]
  },
  {
   "cell_type": "code",
   "execution_count": 78,
   "id": "d3d683ec",
   "metadata": {},
   "outputs": [
    {
     "name": "stdout",
     "output_type": "stream",
     "text": [
      "shape of data (10000, 14)\n",
      "<class 'pandas.core.frame.DataFrame'>\n",
      "RangeIndex: 10000 entries, 0 to 9999\n",
      "Data columns (total 14 columns):\n",
      " #   Column                   Non-Null Count  Dtype  \n",
      "---  ------                   --------------  -----  \n",
      " 0   UDI                      10000 non-null  int64  \n",
      " 1   Product ID               10000 non-null  object \n",
      " 2   Type                     10000 non-null  object \n",
      " 3   Air temperature [K]      10000 non-null  float64\n",
      " 4   Process temperature [K]  10000 non-null  float64\n",
      " 5   Rotational speed [rpm]   10000 non-null  int64  \n",
      " 6   Torque [Nm]              10000 non-null  float64\n",
      " 7   Tool wear [min]          10000 non-null  int64  \n",
      " 8   Machine failure          10000 non-null  int64  \n",
      " 9   TWF                      10000 non-null  int64  \n",
      " 10  HDF                      10000 non-null  int64  \n",
      " 11  PWF                      10000 non-null  int64  \n",
      " 12  OSF                      10000 non-null  int64  \n",
      " 13  RNF                      10000 non-null  int64  \n",
      "dtypes: float64(3), int64(9), object(2)\n",
      "memory usage: 1.1+ MB\n"
     ]
    }
   ],
   "source": [
    "df=pd.read_csv('ai4i2020.csv')\n",
    "print(f\"shape of data {df.shape}\")\n",
    "df.info()"
   ]
  },
  {
   "cell_type": "code",
   "execution_count": 79,
   "id": "17df26fc",
   "metadata": {},
   "outputs": [
    {
     "data": {
      "text/html": [
       "<div>\n",
       "<style scoped>\n",
       "    .dataframe tbody tr th:only-of-type {\n",
       "        vertical-align: middle;\n",
       "    }\n",
       "\n",
       "    .dataframe tbody tr th {\n",
       "        vertical-align: top;\n",
       "    }\n",
       "\n",
       "    .dataframe thead th {\n",
       "        text-align: right;\n",
       "    }\n",
       "</style>\n",
       "<table border=\"1\" class=\"dataframe\">\n",
       "  <thead>\n",
       "    <tr style=\"text-align: right;\">\n",
       "      <th></th>\n",
       "      <th>UDI</th>\n",
       "      <th>Product ID</th>\n",
       "      <th>Type</th>\n",
       "      <th>Air temperature [K]</th>\n",
       "      <th>Process temperature [K]</th>\n",
       "      <th>Rotational speed [rpm]</th>\n",
       "      <th>Torque [Nm]</th>\n",
       "      <th>Tool wear [min]</th>\n",
       "      <th>Machine failure</th>\n",
       "      <th>TWF</th>\n",
       "      <th>HDF</th>\n",
       "      <th>PWF</th>\n",
       "      <th>OSF</th>\n",
       "      <th>RNF</th>\n",
       "    </tr>\n",
       "  </thead>\n",
       "  <tbody>\n",
       "    <tr>\n",
       "      <th>0</th>\n",
       "      <td>1</td>\n",
       "      <td>M14860</td>\n",
       "      <td>M</td>\n",
       "      <td>298.1</td>\n",
       "      <td>308.6</td>\n",
       "      <td>1551</td>\n",
       "      <td>42.8</td>\n",
       "      <td>0</td>\n",
       "      <td>0</td>\n",
       "      <td>0</td>\n",
       "      <td>0</td>\n",
       "      <td>0</td>\n",
       "      <td>0</td>\n",
       "      <td>0</td>\n",
       "    </tr>\n",
       "    <tr>\n",
       "      <th>1</th>\n",
       "      <td>2</td>\n",
       "      <td>L47181</td>\n",
       "      <td>L</td>\n",
       "      <td>298.2</td>\n",
       "      <td>308.7</td>\n",
       "      <td>1408</td>\n",
       "      <td>46.3</td>\n",
       "      <td>3</td>\n",
       "      <td>0</td>\n",
       "      <td>0</td>\n",
       "      <td>0</td>\n",
       "      <td>0</td>\n",
       "      <td>0</td>\n",
       "      <td>0</td>\n",
       "    </tr>\n",
       "    <tr>\n",
       "      <th>2</th>\n",
       "      <td>3</td>\n",
       "      <td>L47182</td>\n",
       "      <td>L</td>\n",
       "      <td>298.1</td>\n",
       "      <td>308.5</td>\n",
       "      <td>1498</td>\n",
       "      <td>49.4</td>\n",
       "      <td>5</td>\n",
       "      <td>0</td>\n",
       "      <td>0</td>\n",
       "      <td>0</td>\n",
       "      <td>0</td>\n",
       "      <td>0</td>\n",
       "      <td>0</td>\n",
       "    </tr>\n",
       "    <tr>\n",
       "      <th>3</th>\n",
       "      <td>4</td>\n",
       "      <td>L47183</td>\n",
       "      <td>L</td>\n",
       "      <td>298.2</td>\n",
       "      <td>308.6</td>\n",
       "      <td>1433</td>\n",
       "      <td>39.5</td>\n",
       "      <td>7</td>\n",
       "      <td>0</td>\n",
       "      <td>0</td>\n",
       "      <td>0</td>\n",
       "      <td>0</td>\n",
       "      <td>0</td>\n",
       "      <td>0</td>\n",
       "    </tr>\n",
       "    <tr>\n",
       "      <th>4</th>\n",
       "      <td>5</td>\n",
       "      <td>L47184</td>\n",
       "      <td>L</td>\n",
       "      <td>298.2</td>\n",
       "      <td>308.7</td>\n",
       "      <td>1408</td>\n",
       "      <td>40.0</td>\n",
       "      <td>9</td>\n",
       "      <td>0</td>\n",
       "      <td>0</td>\n",
       "      <td>0</td>\n",
       "      <td>0</td>\n",
       "      <td>0</td>\n",
       "      <td>0</td>\n",
       "    </tr>\n",
       "  </tbody>\n",
       "</table>\n",
       "</div>"
      ],
      "text/plain": [
       "   UDI Product ID Type  Air temperature [K]  Process temperature [K]  \\\n",
       "0    1     M14860    M                298.1                    308.6   \n",
       "1    2     L47181    L                298.2                    308.7   \n",
       "2    3     L47182    L                298.1                    308.5   \n",
       "3    4     L47183    L                298.2                    308.6   \n",
       "4    5     L47184    L                298.2                    308.7   \n",
       "\n",
       "   Rotational speed [rpm]  Torque [Nm]  Tool wear [min]  Machine failure  TWF  \\\n",
       "0                    1551         42.8                0                0    0   \n",
       "1                    1408         46.3                3                0    0   \n",
       "2                    1498         49.4                5                0    0   \n",
       "3                    1433         39.5                7                0    0   \n",
       "4                    1408         40.0                9                0    0   \n",
       "\n",
       "   HDF  PWF  OSF  RNF  \n",
       "0    0    0    0    0  \n",
       "1    0    0    0    0  \n",
       "2    0    0    0    0  \n",
       "3    0    0    0    0  \n",
       "4    0    0    0    0  "
      ]
     },
     "execution_count": 79,
     "metadata": {},
     "output_type": "execute_result"
    }
   ],
   "source": [
    "df.head()"
   ]
  },
  {
   "cell_type": "code",
   "execution_count": 80,
   "id": "f9175ee3",
   "metadata": {},
   "outputs": [
    {
     "name": "stdout",
     "output_type": "stream",
     "text": [
      "Unique values in each column:\n",
      "UDI                            \t10000 values\n",
      "Product ID                     \t10000 values\n",
      "Type                           \t['M' 'L' 'H']\n",
      "Air temperature [K]            \t93 values\n",
      "Process temperature [K]        \t82 values\n",
      "Rotational speed [rpm]         \t941 values\n",
      "Torque [Nm]                    \t577 values\n",
      "Tool wear [min]                \t246 values\n",
      "Machine failure                \t[0 1]\n",
      "TWF                            \t[0 1]\n",
      "HDF                            \t[0 1]\n",
      "PWF                            \t[0 1]\n",
      "OSF                            \t[0 1]\n",
      "RNF                            \t[0 1]\n"
     ]
    }
   ],
   "source": [
    "print(\"Unique values in each column:\")\n",
    "for col in df.columns:\n",
    "    unique_values = df[col].unique()\n",
    "    if len(unique_values) < 10:\n",
    "        print(f\"{col:30} \\t{unique_values}\")\n",
    "    else:   \n",
    "        print(f\"{col:30} \\t{len(df[col].unique())} values\")"
   ]
  },
  {
   "cell_type": "markdown",
   "id": "811ebac4",
   "metadata": {},
   "source": [
    "From the unique values analysis above, we know that UDI and Product ID can be removed.\n",
    "\n",
    "Both columns has 1000 unique values and we have 1000 rows of samples. \n",
    "\n",
    "Hence, the values are unique for each sample."
   ]
  },
  {
   "cell_type": "markdown",
   "id": "61222f1d",
   "metadata": {},
   "source": [
    "## Remove Row Unique ID and Product ID"
   ]
  },
  {
   "cell_type": "code",
   "execution_count": 81,
   "id": "d8523a44",
   "metadata": {},
   "outputs": [
    {
     "name": "stdout",
     "output_type": "stream",
     "text": [
      "shape of data after dropping columns (10000, 12)\n"
     ]
    }
   ],
   "source": [
    "df.drop(columns=['UDI', 'Product ID'], inplace=True)\n",
    "print(f\"shape of data after dropping columns {df.shape}\")"
   ]
  },
  {
   "cell_type": "markdown",
   "id": "117ba582",
   "metadata": {},
   "source": [
    "## Max and Min For Numeric Values"
   ]
  },
  {
   "cell_type": "code",
   "execution_count": 82,
   "id": "96f1cfd6",
   "metadata": {},
   "outputs": [
    {
     "data": {
      "text/html": [
       "<div>\n",
       "<style scoped>\n",
       "    .dataframe tbody tr th:only-of-type {\n",
       "        vertical-align: middle;\n",
       "    }\n",
       "\n",
       "    .dataframe tbody tr th {\n",
       "        vertical-align: top;\n",
       "    }\n",
       "\n",
       "    .dataframe thead th {\n",
       "        text-align: right;\n",
       "    }\n",
       "</style>\n",
       "<table border=\"1\" class=\"dataframe\">\n",
       "  <thead>\n",
       "    <tr style=\"text-align: right;\">\n",
       "      <th></th>\n",
       "      <th>count</th>\n",
       "      <th>mean</th>\n",
       "      <th>std</th>\n",
       "      <th>min</th>\n",
       "      <th>25%</th>\n",
       "      <th>50%</th>\n",
       "      <th>75%</th>\n",
       "      <th>max</th>\n",
       "    </tr>\n",
       "  </thead>\n",
       "  <tbody>\n",
       "    <tr>\n",
       "      <th>Air temperature [K]</th>\n",
       "      <td>10000.0</td>\n",
       "      <td>300.00493</td>\n",
       "      <td>2.000259</td>\n",
       "      <td>295.3</td>\n",
       "      <td>298.3</td>\n",
       "      <td>300.1</td>\n",
       "      <td>301.5</td>\n",
       "      <td>304.5</td>\n",
       "    </tr>\n",
       "    <tr>\n",
       "      <th>Process temperature [K]</th>\n",
       "      <td>10000.0</td>\n",
       "      <td>310.00556</td>\n",
       "      <td>1.483734</td>\n",
       "      <td>305.7</td>\n",
       "      <td>308.8</td>\n",
       "      <td>310.1</td>\n",
       "      <td>311.1</td>\n",
       "      <td>313.8</td>\n",
       "    </tr>\n",
       "    <tr>\n",
       "      <th>Rotational speed [rpm]</th>\n",
       "      <td>10000.0</td>\n",
       "      <td>1538.77610</td>\n",
       "      <td>179.284096</td>\n",
       "      <td>1168.0</td>\n",
       "      <td>1423.0</td>\n",
       "      <td>1503.0</td>\n",
       "      <td>1612.0</td>\n",
       "      <td>2886.0</td>\n",
       "    </tr>\n",
       "    <tr>\n",
       "      <th>Torque [Nm]</th>\n",
       "      <td>10000.0</td>\n",
       "      <td>39.98691</td>\n",
       "      <td>9.968934</td>\n",
       "      <td>3.8</td>\n",
       "      <td>33.2</td>\n",
       "      <td>40.1</td>\n",
       "      <td>46.8</td>\n",
       "      <td>76.6</td>\n",
       "    </tr>\n",
       "    <tr>\n",
       "      <th>Tool wear [min]</th>\n",
       "      <td>10000.0</td>\n",
       "      <td>107.95100</td>\n",
       "      <td>63.654147</td>\n",
       "      <td>0.0</td>\n",
       "      <td>53.0</td>\n",
       "      <td>108.0</td>\n",
       "      <td>162.0</td>\n",
       "      <td>253.0</td>\n",
       "    </tr>\n",
       "  </tbody>\n",
       "</table>\n",
       "</div>"
      ],
      "text/plain": [
       "                           count        mean         std     min     25%  \\\n",
       "Air temperature [K]      10000.0   300.00493    2.000259   295.3   298.3   \n",
       "Process temperature [K]  10000.0   310.00556    1.483734   305.7   308.8   \n",
       "Rotational speed [rpm]   10000.0  1538.77610  179.284096  1168.0  1423.0   \n",
       "Torque [Nm]              10000.0    39.98691    9.968934     3.8    33.2   \n",
       "Tool wear [min]          10000.0   107.95100   63.654147     0.0    53.0   \n",
       "\n",
       "                            50%     75%     max  \n",
       "Air temperature [K]       300.1   301.5   304.5  \n",
       "Process temperature [K]   310.1   311.1   313.8  \n",
       "Rotational speed [rpm]   1503.0  1612.0  2886.0  \n",
       "Torque [Nm]                40.1    46.8    76.6  \n",
       "Tool wear [min]           108.0   162.0   253.0  "
      ]
     },
     "execution_count": 82,
     "metadata": {},
     "output_type": "execute_result"
    }
   ],
   "source": [
    "exclude = ['Type','Machine failure', 'TWF', 'HDF', 'PWF', 'OSF', 'RNF']\n",
    "df.drop(exclude, axis=1).describe().T"
   ]
  },
  {
   "cell_type": "markdown",
   "id": "fb5c4670",
   "metadata": {},
   "source": [
    "## Convert Type To Numeric"
   ]
  },
  {
   "cell_type": "code",
   "execution_count": 83,
   "id": "847136a9",
   "metadata": {},
   "outputs": [
    {
     "name": "stdout",
     "output_type": "stream",
     "text": [
      " Type  Unique Values after encoding:  [1 0 2]\n"
     ]
    }
   ],
   "source": [
    "df['Type'] = df['Type'].astype('category')\n",
    "type_mapping = {'L': 0, 'M': 1, 'H': 2}\n",
    "df['Type'] = df['Type'].map(type_mapping).astype('int')\n",
    "print(\" Type  Unique Values after encoding: \", df['Type'].unique())"
   ]
  },
  {
   "cell_type": "markdown",
   "id": "6ecfe959",
   "metadata": {},
   "source": [
    "## Check for Duplicates And Missing Data"
   ]
  },
  {
   "cell_type": "code",
   "execution_count": 84,
   "id": "478d263d",
   "metadata": {},
   "outputs": [
    {
     "name": "stdout",
     "output_type": "stream",
     "text": [
      "number of duplicated rows :  0\n",
      "number of null values :  0\n"
     ]
    }
   ],
   "source": [
    "print(\"number of duplicated rows : \", df.duplicated().sum())\n",
    "print(\"number of null values : \", df.isnull().sum().sum())"
   ]
  },
  {
   "cell_type": "markdown",
   "id": "6c237085",
   "metadata": {},
   "source": [
    "Our data does not seem to have any duplicate or missing data.\n",
    "This is given the data is synthetic data created through simulation."
   ]
  },
  {
   "cell_type": "markdown",
   "id": "46faeab5",
   "metadata": {},
   "source": [
    "## Check Our Target and Label"
   ]
  },
  {
   "cell_type": "markdown",
   "id": "69e6adbc",
   "metadata": {},
   "source": [
    "We want to check whether there is any machine failures that are not attributed to the 5 known failures\n",
    "\n",
    "This should be changed to non failure as RNF already handled random failure.\n",
    "\n",
    "Hence, this is data error and should have been a pass"
   ]
  },
  {
   "cell_type": "code",
   "execution_count": 85,
   "id": "8d3db47b",
   "metadata": {},
   "outputs": [
    {
     "name": "stdout",
     "output_type": "stream",
     "text": [
      "Number of machine failures: 339\n",
      "Number of failures due to unknown reasons: 9\n",
      "Number of failures due to unknown reasons after fix: 0\n"
     ]
    }
   ],
   "source": [
    "# check machine failure\n",
    "\n",
    "\n",
    "def unknown_fail_check(row): return ((row['Machine failure'] == 1)\n",
    "                                     & (row['RNF'] == 0)\n",
    "                                     & (row['HDF'] == 0)\n",
    "                                     & (row['TWF'] == 0)\n",
    "                                     & (row['PWF'] == 0)\n",
    "                                     & (row['OSF'] == 0))\n",
    "\n",
    "\n",
    "print(f\"Number of machine failures: {df['Machine failure'].sum()}\")\n",
    "unknown_failures = df[unknown_fail_check(df)]\n",
    "print(\n",
    "    f\"Number of failures due to unknown reasons: {len(unknown_failures)}\")\n",
    "unknown_failures.loc[:, ['Machine failure',\n",
    "                         'TWF', 'HDF', 'PWF', 'OSF', 'RNF']].head(10)\n",
    "df['Machine failure'] = np.where(\n",
    "    unknown_fail_check(df), 0, df['Machine failure'])\n",
    "unknown_failures = df[unknown_fail_check(df)]\n",
    "print(\n",
    "    f\"Number of failures due to unknown reasons after fix: {len(unknown_failures)}\")"
   ]
  },
  {
   "cell_type": "code",
   "execution_count": 86,
   "id": "dcb38e57",
   "metadata": {},
   "outputs": [
    {
     "name": "stdout",
     "output_type": "stream",
     "text": [
      "Number of samples that passed although failed: 18\n",
      "Number of samples that passed although failed after fix: 0\n"
     ]
    }
   ],
   "source": [
    "\n",
    "def pass_yet_fail_check(row): return (row['Machine failure'] == 0) & ((row['RNF'] == 1)\n",
    "                                                                     | (row['HDF'] == 1)\n",
    "                                                                     | (row['TWF'] == 1)\n",
    "                                                                     | (row['PWF'] == 1)\n",
    "                                                                     | (row['OSF'] == 1))\n",
    "passed_although_failed = df[pass_yet_fail_check(df)]\n",
    "print(\n",
    "    f\"Number of samples that passed although failed: {len(passed_although_failed)}\")\n",
    "passed_although_failed.loc[:, ['Machine failure',\n",
    "                               'TWF', 'HDF', 'PWF', 'OSF', 'RNF']].head(10)\n",
    "df['Machine failure'] = np.where(\n",
    "    pass_yet_fail_check(df), 1, df['Machine failure'])\n",
    "passed_although_failed = df[pass_yet_fail_check(df)]\n",
    "print(\n",
    "    f\"Number of samples that passed although failed after fix: {len(passed_although_failed)}\")\n"
   ]
  },
  {
   "cell_type": "markdown",
   "id": "4403890b",
   "metadata": {},
   "source": [
    "## Add New Features"
   ]
  },
  {
   "cell_type": "markdown",
   "id": "653f04e7",
   "metadata": {},
   "source": [
    "From https://archive.ics.uci.edu/dataset/601/ai4i+2020+predictive+maintenance+dataset\n",
    "or https://www.kaggle.com/datasets/stephanmatzka/predictive-maintenance-dataset-ai4i-2020/data\n",
    "\n",
    "We learned :\n",
    "\n",
    "- tool wear failure (TWF): the tool will be replaced of fail at a randomly selected tool wear time between 200 - 240 mins (120 times in our dataset). At this point in time, the tool is replaced 69 times, and fails 51 times (randomly assigned).\n",
    "\n",
    "- heat dissipation failure (HDF): heat dissipation causes a process failure, if the difference between air- and process temperature is below 8.6 K and the tools rotational speed is below 1380 rpm. This is the case for 115 data points.\n",
    "\n",
    "- power failure (PWF): the product of torque and rotational speed (in rad/s) equals the power required for the process. If this power is below 3500 W or above 9000 W, the process fails, which is the case 95 times in our dataset.\n",
    "\n",
    "- overstrain failure (OSF): if the product of tool wear and torque exceeds 11,000 minNm for the L product variant (12,000 M, 13,000 H), the process fails due to overstrain. This is true for 98 datapoints.\n",
    "\n",
    "- random failures (RNF): each process has a chance of 0,1 % to fail regardless of its process parameters. This is the case for only 5 datapoints, less than could be expected for 10,000 datapoints in our dataset.\n",
    "\n",
    "If at least one of the above failure modes is true, the process fails and the 'machine failure' label is set to 1. It is therefore not transparent to the machine learning method, which of the failure modes has caused the process to fail.\n"
   ]
  },
  {
   "cell_type": "markdown",
   "id": "71c33617",
   "metadata": {},
   "source": [
    "We know from our dataset documentation that the failures are related to 3 new features:\n",
    "- Strain (minNm) = Product of Tool Wear and Torgue\n",
    "- Power (W) = Product of rational speed and Torque \n",
    "- Temperature Difference (K) = difference of Process and Air Temperatures\n",
    "\n",
    "Let's add these features"
   ]
  },
  {
   "cell_type": "code",
   "execution_count": 87,
   "id": "e1e08dcb",
   "metadata": {},
   "outputs": [],
   "source": [
    "df['Strain [minNm]'] = df['Tool wear [min]'] * df['Torque [Nm]'] \n",
    "df['Power (W)'] = df['Rotational speed [rpm]'] * df['Torque [Nm]'] * 2 * np.pi / 60\n",
    "df['Temperature Difference (K)'] = df['Process temperature [K]'] - df['Air temperature [K]']"
   ]
  },
  {
   "cell_type": "markdown",
   "id": "f9501b58",
   "metadata": {},
   "source": [
    "## Save Data"
   ]
  },
  {
   "cell_type": "code",
   "execution_count": 88,
   "id": "0973ff19",
   "metadata": {},
   "outputs": [],
   "source": [
    "df.to_csv('ai4i2020_cleaned.csv', index=False)"
   ]
  },
  {
   "cell_type": "markdown",
   "id": "b1c9cda6",
   "metadata": {},
   "source": [
    "## Split Data to Training and Test Data"
   ]
  },
  {
   "cell_type": "code",
   "execution_count": 89,
   "id": "03318c0e",
   "metadata": {},
   "outputs": [
    {
     "name": "stdout",
     "output_type": "stream",
     "text": [
      "shape of X (10000, 9), shape of y (10000, 6)\n",
      "X columns Index(['Type', 'Air temperature [K]', 'Process temperature [K]',\n",
      "       'Rotational speed [rpm]', 'Torque [Nm]', 'Tool wear [min]',\n",
      "       'Strain [minNm]', 'Power (W)', 'Temperature Difference (K)'],\n",
      "      dtype='object')\n",
      "y columns Index(['Machine failure', 'TWF', 'HDF', 'PWF', 'OSF', 'RNF'], dtype='object')\n"
     ]
    }
   ],
   "source": [
    "labels = ['Machine failure', 'TWF', 'HDF', 'PWF', 'OSF', 'RNF']\n",
    "X = df.drop(columns=labels)\n",
    "y = df[labels]\n",
    "print(f\"shape of X {X.shape}, shape of y {y.shape}\")\n",
    "print(f\"X columns {X.columns}\")\n",
    "print(f\"y columns {y.columns}\")\n",
    "# Split the data into training and test sets\n",
    "# We will use stratified sampling to ensure that the distribution of the target variable is preserved in both sets.\n",
    "# This is important for imbalanced datasets.\n",
    "# We will use a random state of 42 for reproducibility.\n",
    "# We will also use a test size of 20% and a train size of 80%.  \n",
    "X_train, X_test, y_train, y_test = train_test_split(X,y, test_size=0.2, random_state=42,  stratify=y['Machine failure']) \n",
    "df_train=pd.concat([X_train, y_train], axis=1)\n",
    "df_test=pd.concat([X_test, y_test], axis=1)\n"
   ]
  },
  {
   "cell_type": "code",
   "execution_count": 90,
   "id": "610cf726",
   "metadata": {},
   "outputs": [],
   "source": [
    "X_train.to_csv('X_train.csv', index=False)\n",
    "y_train.to_csv('y_train.csv', index=False)\n",
    "X_test.to_csv('X_test.csv', index=False)\n",
    "y_test.to_csv('y_test.csv', index=False)"
   ]
  },
  {
   "cell_type": "markdown",
   "id": "8e261fca",
   "metadata": {},
   "source": [
    "## Check For Imbalance Data"
   ]
  },
  {
   "cell_type": "code",
   "execution_count": 91,
   "id": "dfd79ad3",
   "metadata": {},
   "outputs": [
    {
     "name": "stdout",
     "output_type": "stream",
     "text": [
      "Percentages of each label in training data:\n",
      "Machine failure: 3.48%\n",
      "TWF: 0.49%\n",
      "HDF: 1.10%\n",
      "PWF: 1.01%\n",
      "OSF: 0.94%\n",
      "RNF: 0.21%\n"
     ]
    },
    {
     "data": {
      "image/png": "[encoded data removed]",
      "text/plain": [
       "<Figure size 1500x400 with 6 Axes>"
      ]
     },
     "metadata": {},
     "output_type": "display_data"
    }
   ],
   "source": [
    "plt.figure(figsize=(15, 4))\n",
    "percentages = y_train.mean() * 100\n",
    "print(\"Percentages of each label in training data:\")\n",
    "for label, percentage in zip(labels, percentages):\n",
    "    print(f\"{label}: {percentage:.2f}%\")\n",
    "for index, label in enumerate(labels):\n",
    "    plt.subplot(2, 3, index + 1) \n",
    "    sns.countplot(x=label, data=df_train, palette='Set2', hue=label, legend='full')\n",
    "    plt.xticks([0, 1], ['Pass', 'Fail'])\n",
    "plt.show()\n"
   ]
  },
  {
   "cell_type": "markdown",
   "id": "2ed8517a",
   "metadata": {},
   "source": [
    "We can observe that our data is highly imbalanced for all of our labels\n",
    "\n",
    "We should create a balanced dataset for our training to avoid majority bias"
   ]
  },
  {
   "cell_type": "markdown",
   "id": "b6ef8457",
   "metadata": {},
   "source": [
    "## Balancing Dataset for Machine Failure"
   ]
  },
  {
   "cell_type": "code",
   "execution_count": 92,
   "id": "fef2db79",
   "metadata": {},
   "outputs": [
    {
     "name": "stdout",
     "output_type": "stream",
     "text": [
      "Requirement already satisfied: imblearn in /Users/Ray/.local/lib/python3.13/site-packages (0.0)\n",
      "Requirement already satisfied: imbalanced-learn in /Users/Ray/.local/lib/python3.13/site-packages (from imblearn) (0.13.0)\n",
      "Requirement already satisfied: numpy<3,>=1.24.3 in /opt/anaconda3/envs/ml/lib/python3.13/site-packages (from imbalanced-learn->imblearn) (1.26.4)\n",
      "Requirement already satisfied: scipy<2,>=1.10.1 in /opt/anaconda3/envs/ml/lib/python3.13/site-packages (from imbalanced-learn->imblearn) (1.15.2)\n",
      "Requirement already satisfied: scikit-learn<2,>=1.3.2 in /opt/anaconda3/envs/ml/lib/python3.13/site-packages (from imbalanced-learn->imblearn) (1.6.1)\n",
      "Requirement already satisfied: sklearn-compat<1,>=0.1 in /Users/Ray/.local/lib/python3.13/site-packages (from imbalanced-learn->imblearn) (0.1.3)\n",
      "Requirement already satisfied: joblib<2,>=1.1.1 in /opt/anaconda3/envs/ml/lib/python3.13/site-packages (from imbalanced-learn->imblearn) (1.5.0)\n",
      "Requirement already satisfied: threadpoolctl<4,>=2.0.0 in /opt/anaconda3/envs/ml/lib/python3.13/site-packages (from imbalanced-learn->imblearn) (3.6.0)\n",
      "Note: you may need to restart the kernel to use updated packages.\n",
      "Oversampling completed with 15444 samples.\n"
     ]
    }
   ],
   "source": [
    "%pip install imblearn\n",
    "# Check if the imbalanced-learn package is installed\n",
    "from imblearn.over_sampling import SMOTE\n",
    "oversample = SMOTE(random_state=42)\n",
    "y_omf = y_train[\"Machine failure\"]\n",
    "X_oversample_train, y_oversample_train = oversample.fit_resample(X_train, y_omf)\n",
    "print(f\"Oversampling completed with {len(y_oversample_train)} samples.\")\n",
    "\n"
   ]
  },
  {
   "cell_type": "code",
   "execution_count": 93,
   "id": "d70cad98",
   "metadata": {},
   "outputs": [
    {
     "data": {
      "image/png": "[encoded data removed]",
      "text/plain": [
       "<Figure size 1500x1000 with 1 Axes>"
      ]
     },
     "metadata": {},
     "output_type": "display_data"
    }
   ],
   "source": [
    "\n",
    "plt.figure(figsize=(15, 10))\n",
    "before_count = y_omf.value_counts()\n",
    "after_count = y_oversample_train.value_counts()\n",
    "temp = pd.DataFrame({'pass': [before_count[0], after_count[0]],\n",
    "                        'fail': [before_count[1], after_count[1]], },\n",
    "                    index=['Before', 'After'])\n",
    "temp.plot(kind='bar', stacked=True, ax=plt.subplot(2, 3, index + 1))\n",
    "plt.xticks(rotation=45)\n",
    "plt.title(\"Distribution after Oversampling\")\n",
    "plt.show()\n"
   ]
  },
  {
   "cell_type": "markdown",
   "id": "19be88b0",
   "metadata": {},
   "source": [
    "## Saving Balanced DataSet"
   ]
  },
  {
   "cell_type": "code",
   "execution_count": 94,
   "id": "1d51fb2d",
   "metadata": {},
   "outputs": [],
   "source": [
    "X_oversample_train.to_csv('X_oversample_train.csv', index=False)\n",
    "y_oversample_train.to_csv('y_oversample_train.csv', index=False)"
   ]
  },
  {
   "cell_type": "markdown",
   "id": "a785078f",
   "metadata": {},
   "source": [
    "## MLSMOTE : Using Multi Label SMOTE to create a balanced dataset"
   ]
  },
  {
   "cell_type": "markdown",
   "id": "6a0bc1dc",
   "metadata": {},
   "source": [
    "This algorithm is based on https://www.kaggle.com/code/tolgadincer/upsampling-multilabel-data-with-mlsmote\n",
    "Originally from https://www.sciencedirect.com/science/article/abs/pii/S0950705115002737\n",
    "with some modifications\n",
    "- input \n",
    "    - imbalanced dataset D with features X and labels Y\n",
    "    - number of nearest neighbor to consider k\n",
    "    - number of samples to generate per minority label N\n",
    "- output\n",
    "    - augmented dataset D'\n",
    "- steps:\n",
    "    - identify minority labels\n",
    "        - for each label l in Y:\n",
    "            - count positive instances\n",
    "            - if count for l is < threshold (median), l is chosen as minority label\n",
    "    - generate synthetic samples for each minority label l\n",
    "        - for each minority label l:\n",
    "            - let Sl = instances where Yi[l] = 1 (positive for label l)\n",
    "            - for i = 1 to N\n",
    "                - randomly select instance xi from Sl\n",
    "                - find k-nearest neighbors of xi in Sl (using eucledian distance)\n",
    "                - randomly select a neighbor xnn from k-nearest neighbor\n",
    "                - compute a synthetic sample xnew:\n",
    "                - assign a labels to xnew\n",
    "                - add xnew, ynew to dataset D'     \n",
    "\n"
   ]
  },
  {
   "cell_type": "code",
   "execution_count": 95,
   "id": "4ed3bdb0",
   "metadata": {},
   "outputs": [
    {
     "name": "stdout",
     "output_type": "stream",
     "text": [
      "Number of samples for oversampling: 0\n",
      "Shape of oversampled X: (8000, 9), Shape of oversampled y: (8000, 6)\n",
      "Oversampling completed using MultiLabelSMOTE.\n",
      "Oversampled data saved to CSV files.\n"
     ]
    }
   ],
   "source": [
    "from MultiLabelSMOTE import MultiLabelSMOTE\n",
    "num_samples = np.sum(y_train['Machine failure'] == 0)-np.sum(y_train['Machine failure'] == 0)\n",
    "print(f\"Number of samples for oversampling: {num_samples}\")\n",
    "mlsmote = MultiLabelSMOTE(random_state=42, n_sample=num_samples)  # Adjust n_sample as needed\n",
    "X_oversample_train, y_oversample_train = mlsmote.fit_resample(X_train, y_train)\n",
    "\n",
    "print(f\"Shape of oversampled X: {X_oversample_train.shape}, Shape of oversampled y: {y_oversample_train.shape}\")\n",
    "print(\"Oversampling completed using MultiLabelSMOTE.\")\n",
    "X_oversample_train.to_csv('X_oversample_train_mlsmote.csv', index=False)\n",
    "y_oversample_train.to_csv('y_oversample_train_mlsmote.csv', index=False)\n",
    "print(\"Oversampled data saved to CSV files.\")    \n"
   ]
  },
  {
   "cell_type": "code",
   "execution_count": 96,
   "id": "815222cf",
   "metadata": {},
   "outputs": [
    {
     "data": {
      "image/png": "[encoded data removed]",
      "text/plain": [
       "<Figure size 1500x1000 with 6 Axes>"
      ]
     },
     "metadata": {},
     "output_type": "display_data"
    }
   ],
   "source": [
    "plt.figure(figsize=(15, 10))\n",
    "for index, label in enumerate(labels):\n",
    "    before_count = y_train[label].value_counts()\n",
    "    after_count = y_oversample_train[label].value_counts()\n",
    "    temp = pd.DataFrame({'pass': [before_count[0], after_count[0]],\n",
    "                         'fail': [before_count[1], after_count[1]], },\n",
    "                        index=['Before', 'After'])\n",
    "    temp.plot(kind='bar', stacked=True, ax=plt.subplot(2, 3, index + 1))\n",
    "    plt.xticks(rotation=45)\n",
    "    plt.title(f\"{label} Distribution after Oversampling\")\n",
    "plt.show()"
   ]
  },
  {
   "cell_type": "markdown",
   "id": "b1581b4e",
   "metadata": {},
   "source": [
    "Our algorithm produce a more balanced dataset with each label in similar propotion as the original dataset"
   ]
  },
  {
   "cell_type": "code",
   "execution_count": 97,
   "id": "58412072",
   "metadata": {},
   "outputs": [
    {
     "name": "stdout",
     "output_type": "stream",
     "text": [
      "Percentage of samples before and after oversampling:\n",
      "Machine failure: Before: 278.00%, After: 278.00%\n",
      "TWF: Before: 39.00%, After: 39.00%\n",
      "HDF: Before: 88.00%, After: 88.00%\n",
      "PWF: Before: 81.00%, After: 81.00%\n",
      "OSF: Before: 75.00%, After: 75.00%\n",
      "RNF: Before: 17.00%, After: 17.00%\n"
     ]
    }
   ],
   "source": [
    "before_counts = {}\n",
    "after_counts = {}\n",
    "before_count_machine_failure = y_train['Machine failure'].sum()\n",
    "after_count_machine_failure = y_oversample_train['Machine failure'].sum()\n",
    "for label in labels:\n",
    "    before_counts[label] = y_train[label].sum() \n",
    "    after_counts[label] = y_oversample_train[label].sum() \n",
    "print(\"Percentage of samples before and after oversampling:\")\n",
    "for label in labels:\n",
    "    print(f\"{label}: Before: {before_counts[label]:.2f}%, After: {after_counts[label]:.2f}%\") "
   ]
  }
 ],
 "metadata": {
  "kernelspec": {
   "display_name": "ml",
   "language": "python",
   "name": "python3"
  },
  "language_info": {
   "codemirror_mode": {
    "name": "ipython",
    "version": 3
   },
   "file_extension": ".py",
   "mimetype": "text/x-python",
   "name": "python",
   "nbconvert_exporter": "python",
   "pygments_lexer": "ipython3",
   "version": "3.13.2"
  }
 },
 "nbformat": 4,
 "nbformat_minor": 5
}
