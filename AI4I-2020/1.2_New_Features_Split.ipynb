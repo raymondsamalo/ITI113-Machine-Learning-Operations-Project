{
 "cells": [
  {
   "cell_type": "markdown",
   "id": "416f4226",
   "metadata": {},
   "source": [
    "# New Features\n",
    "\n",
    "From https://archive.ics.uci.edu/dataset/601/ai4i+2020+predictive+maintenance+dataset\n",
    "or https://www.kaggle.com/datasets/stephanmatzka/predictive-maintenance-dataset-ai4i-2020/data\n",
    "\n",
    "We learned :\n",
    "\n",
    "- tool wear failure (TWF): the tool will be replaced of fail at a randomly selected tool wear time between 200 - 240 mins (120 times in our dataset). At this point in time, the tool is replaced 69 times, and fails 51 times (randomly assigned).\n",
    "\n",
    "- heat dissipation failure (HDF): heat dissipation causes a process failure, if the difference between air- and process temperature is below 8.6 K and the tools rotational speed is below 1380 rpm. This is the case for 115 data points.\n",
    "\n",
    "- power failure (PWF): the product of torque and rotational speed (in rad/s) equals the power required for the process. If this power is below 3500 W or above 9000 W, the process fails, which is the case 95 times in our dataset.\n",
    "\n",
    "- overstrain failure (OSF): if the product of tool wear and torque exceeds 11,000 minNm for the L product variant (12,000 M, 13,000 H), the process fails due to overstrain. This is true for 98 datapoints.\n",
    "\n",
    "- random failures (RNF): each process has a chance of 0,1 % to fail regardless of its process parameters. This is the case for only 5 datapoints, less than could be expected for 10,000 datapoints in our dataset.\n",
    "\n",
    "If at least one of the above failure modes is true, the process fails and the 'machine failure' label is set to 1. It is therefore not transparent to the machine learning method, which of the failure modes has caused the process to fail.\n",
    "\n",
    "\n",
    "## Load Data And Dependencies"
   ]
  },
  {
   "cell_type": "code",
   "execution_count": 2,
   "id": "a92f3cbc",
   "metadata": {},
   "outputs": [],
   "source": [
    "import pandas as pd\n",
    "import numpy as np\n",
    "import seaborn as sns\n",
    "import matplotlib.pyplot as plt\n",
    "from sklearn.model_selection import train_test_split"
   ]
  },
  {
   "cell_type": "code",
   "execution_count": 3,
   "id": "d3d683ec",
   "metadata": {},
   "outputs": [
    {
     "name": "stdout",
     "output_type": "stream",
     "text": [
      "shape of data (10000, 13)\n"
     ]
    }
   ],
   "source": [
    "df=pd.read_csv('ai4i2020_cleaned.csv')\n",
    "print(f\"shape of data {df.shape}\")"
   ]
  },
  {
   "cell_type": "code",
   "execution_count": 4,
   "id": "2d662019",
   "metadata": {},
   "outputs": [],
   "source": [
    "df['Strain [minNm]'] = df['Tool wear [min]'] * df['Torque [Nm]'] \n",
    "df['Power (W)'] = df['Rotational speed [rpm]'] * df['Torque [Nm]'] * 2 * np.pi / 60\n",
    "df['Temperature Difference (K)'] = df['Process temperature [K]'] - df['Air temperature [K]']\n"
   ]
  },
  {
   "cell_type": "code",
   "execution_count": 5,
   "id": "ea132efb",
   "metadata": {},
   "outputs": [
    {
     "name": "stdout",
     "output_type": "stream",
     "text": [
      "shape of X (10000, 10), shape of y (10000, 6)\n",
      "X columns Index(['Type', 'Air temperature [K]', 'Process temperature [K]',\n",
      "       'Rotational speed [rpm]', 'Torque [Nm]', 'Tool wear [min]', 'Type Num',\n",
      "       'Strain [minNm]', 'Power (W)', 'Temperature Difference (K)'],\n",
      "      dtype='object')\n",
      "y columns Index(['Machine failure', 'TWF', 'HDF', 'PWF', 'OSF', 'RNF'], dtype='object')\n"
     ]
    }
   ],
   "source": [
    "labels = ['Machine failure', 'TWF', 'HDF', 'PWF', 'OSF', 'RNF']\n",
    "X = df.drop(columns=labels)\n",
    "y = df[labels]\n",
    "print(f\"shape of X {X.shape}, shape of y {y.shape}\")\n",
    "print(f\"X columns {X.columns}\")\n",
    "print(f\"y columns {y.columns}\")\n",
    "# Split the data into training and test sets\n",
    "# We will use stratified sampling to ensure that the distribution of the target variable is preserved in both sets.\n",
    "# This is important for imbalanced datasets.\n",
    "# We will use a random state of 42 for reproducibility.\n",
    "# We will also use a test size of 20% and a train size of 80%.  \n",
    "X_train, X_test, y_train, y_test = train_test_split(X,y, test_size=0.2, random_state=42,  stratify=y['Machine failure']) \n",
    "X_train.to_csv('X_train.csv', index=False)\n",
    "y_train.to_csv('y_train.csv', index=False)\n",
    "X_test.to_csv('X_test.csv', index=False)\n",
    "y_test.to_csv('y_test.csv', index=False)"
   ]
  },
  {
   "cell_type": "markdown",
   "id": "4334431c",
   "metadata": {},
   "source": []
  }
 ],
 "metadata": {
  "kernelspec": {
   "display_name": "ml",
   "language": "python",
   "name": "python3"
  },
  "language_info": {
   "codemirror_mode": {
    "name": "ipython",
    "version": 3
   },
   "file_extension": ".py",
   "mimetype": "text/x-python",
   "name": "python",
   "nbconvert_exporter": "python",
   "pygments_lexer": "ipython3",
   "version": "3.13.2"
  }
 },
 "nbformat": 4,
 "nbformat_minor": 5
}
