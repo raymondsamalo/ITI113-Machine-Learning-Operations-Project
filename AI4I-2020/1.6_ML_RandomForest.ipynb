{
 "cells": [
  {
   "cell_type": "code",
   "execution_count": null,
   "id": "e8c4dc7f",
   "metadata": {},
   "outputs": [],
   "source": [
    "from sklearn.model_selection import GridSearchCV\n",
    "import warnings\n",
    "warnings.filterwarnings(\"ignore\")\n",
    "from sklearn.metrics import make_scorer, fbeta_score\n",
    "f2_scorer = make_scorer(fbeta_score, beta=2)\n",
    "# Set rule to ignore warnings\n",
    "param_grid = {\n",
    "    'max_features': ['sqrt', 'log2'],\n",
    "    'max_depth' : [4, 6, 8, 10, 12, None],\n",
    "    'n_estimators': [1, 8, 16, 32, 64, 100, 200],\n",
    "}\n",
    "rf_clf = RandomForestClassifier(random_state=42)\n",
    "rf_clf.fit(over_X_train, over_y_train)  # fit the classifier on the training data\n",
    "clf = GridSearchCV(rf_clf,param_grid = param_grid, cv = 3, verbose=False, scoring=f2_scorer)\n",
    "best_rf_clf = clf.fit(over_X_train, over_y_train)\n",
    "best_rf_clf.best_estimator_\n",
    "print(\"Best parameters for Random Forest Regression:\")\n",
    "print(best_rf_clf.best_params_)\n",
    "print(\"Best score for Random Forest Regression:\")\n",
    "print(best_rf_clf.best_score_)"
   ]
  }
 ],
 "metadata": {
  "language_info": {
   "name": "python"
  }
 },
 "nbformat": 4,
 "nbformat_minor": 5
}
