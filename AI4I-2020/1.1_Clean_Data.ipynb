{
 "cells": [
  {
   "cell_type": "markdown",
   "id": "416f4226",
   "metadata": {},
   "source": [
    "# DATA CLEANING\n",
    "## Load Data And Dependencies"
   ]
  },
  {
   "cell_type": "code",
   "execution_count": null,
   "id": "a92f3cbc",
   "metadata": {},
   "outputs": [],
   "source": [
    "import pandas as pd\n",
    "import numpy as np"
   ]
  },
  {
   "cell_type": "code",
   "execution_count": 2,
   "id": "3481a614",
   "metadata": {},
   "outputs": [],
   "source": [
    "label_descriptions = {\n",
    "    'TWF': 'Tool Wear Failure',\n",
    "    'HDF': 'Heat Dissipation Failure',\n",
    "    'PWF': 'Power Failure',\n",
    "    'OSF': 'Overstrain Failure',\n",
    "    'RNF': 'Random Failure'\n",
    "}"
   ]
  },
  {
   "cell_type": "markdown",
   "id": "0daf3c85",
   "metadata": {},
   "source": [
    "https://archive.ics.uci.edu/dataset/601/ai4i+2020+predictive+maintenance+dataset\n"
   ]
  },
  {
   "cell_type": "code",
   "execution_count": 3,
   "id": "d3d683ec",
   "metadata": {},
   "outputs": [
    {
     "name": "stdout",
     "output_type": "stream",
     "text": [
      "shape of data (10000, 14)\n",
      "<class 'pandas.core.frame.DataFrame'>\n",
      "RangeIndex: 10000 entries, 0 to 9999\n",
      "Data columns (total 14 columns):\n",
      " #   Column                   Non-Null Count  Dtype  \n",
      "---  ------                   --------------  -----  \n",
      " 0   UDI                      10000 non-null  int64  \n",
      " 1   Product ID               10000 non-null  object \n",
      " 2   Type                     10000 non-null  object \n",
      " 3   Air temperature [K]      10000 non-null  float64\n",
      " 4   Process temperature [K]  10000 non-null  float64\n",
      " 5   Rotational speed [rpm]   10000 non-null  int64  \n",
      " 6   Torque [Nm]              10000 non-null  float64\n",
      " 7   Tool wear [min]          10000 non-null  int64  \n",
      " 8   Machine failure          10000 non-null  int64  \n",
      " 9   TWF                      10000 non-null  int64  \n",
      " 10  HDF                      10000 non-null  int64  \n",
      " 11  PWF                      10000 non-null  int64  \n",
      " 12  OSF                      10000 non-null  int64  \n",
      " 13  RNF                      10000 non-null  int64  \n",
      "dtypes: float64(3), int64(9), object(2)\n",
      "memory usage: 1.1+ MB\n"
     ]
    }
   ],
   "source": [
    "df=pd.read_csv('ai4i2020.csv')\n",
    "print(f\"shape of data {df.shape}\")\n",
    "df.info()"
   ]
  },
  {
   "cell_type": "code",
   "execution_count": 4,
   "id": "17df26fc",
   "metadata": {},
   "outputs": [
    {
     "data": {
      "text/html": [
       "<div>\n",
       "<style scoped>\n",
       "    .dataframe tbody tr th:only-of-type {\n",
       "        vertical-align: middle;\n",
       "    }\n",
       "\n",
       "    .dataframe tbody tr th {\n",
       "        vertical-align: top;\n",
       "    }\n",
       "\n",
       "    .dataframe thead th {\n",
       "        text-align: right;\n",
       "    }\n",
       "</style>\n",
       "<table border=\"1\" class=\"dataframe\">\n",
       "  <thead>\n",
       "    <tr style=\"text-align: right;\">\n",
       "      <th></th>\n",
       "      <th>UDI</th>\n",
       "      <th>Product ID</th>\n",
       "      <th>Type</th>\n",
       "      <th>Air temperature [K]</th>\n",
       "      <th>Process temperature [K]</th>\n",
       "      <th>Rotational speed [rpm]</th>\n",
       "      <th>Torque [Nm]</th>\n",
       "      <th>Tool wear [min]</th>\n",
       "      <th>Machine failure</th>\n",
       "      <th>TWF</th>\n",
       "      <th>HDF</th>\n",
       "      <th>PWF</th>\n",
       "      <th>OSF</th>\n",
       "      <th>RNF</th>\n",
       "    </tr>\n",
       "  </thead>\n",
       "  <tbody>\n",
       "    <tr>\n",
       "      <th>0</th>\n",
       "      <td>1</td>\n",
       "      <td>M14860</td>\n",
       "      <td>M</td>\n",
       "      <td>298.1</td>\n",
       "      <td>308.6</td>\n",
       "      <td>1551</td>\n",
       "      <td>42.8</td>\n",
       "      <td>0</td>\n",
       "      <td>0</td>\n",
       "      <td>0</td>\n",
       "      <td>0</td>\n",
       "      <td>0</td>\n",
       "      <td>0</td>\n",
       "      <td>0</td>\n",
       "    </tr>\n",
       "    <tr>\n",
       "      <th>1</th>\n",
       "      <td>2</td>\n",
       "      <td>L47181</td>\n",
       "      <td>L</td>\n",
       "      <td>298.2</td>\n",
       "      <td>308.7</td>\n",
       "      <td>1408</td>\n",
       "      <td>46.3</td>\n",
       "      <td>3</td>\n",
       "      <td>0</td>\n",
       "      <td>0</td>\n",
       "      <td>0</td>\n",
       "      <td>0</td>\n",
       "      <td>0</td>\n",
       "      <td>0</td>\n",
       "    </tr>\n",
       "    <tr>\n",
       "      <th>2</th>\n",
       "      <td>3</td>\n",
       "      <td>L47182</td>\n",
       "      <td>L</td>\n",
       "      <td>298.1</td>\n",
       "      <td>308.5</td>\n",
       "      <td>1498</td>\n",
       "      <td>49.4</td>\n",
       "      <td>5</td>\n",
       "      <td>0</td>\n",
       "      <td>0</td>\n",
       "      <td>0</td>\n",
       "      <td>0</td>\n",
       "      <td>0</td>\n",
       "      <td>0</td>\n",
       "    </tr>\n",
       "    <tr>\n",
       "      <th>3</th>\n",
       "      <td>4</td>\n",
       "      <td>L47183</td>\n",
       "      <td>L</td>\n",
       "      <td>298.2</td>\n",
       "      <td>308.6</td>\n",
       "      <td>1433</td>\n",
       "      <td>39.5</td>\n",
       "      <td>7</td>\n",
       "      <td>0</td>\n",
       "      <td>0</td>\n",
       "      <td>0</td>\n",
       "      <td>0</td>\n",
       "      <td>0</td>\n",
       "      <td>0</td>\n",
       "    </tr>\n",
       "    <tr>\n",
       "      <th>4</th>\n",
       "      <td>5</td>\n",
       "      <td>L47184</td>\n",
       "      <td>L</td>\n",
       "      <td>298.2</td>\n",
       "      <td>308.7</td>\n",
       "      <td>1408</td>\n",
       "      <td>40.0</td>\n",
       "      <td>9</td>\n",
       "      <td>0</td>\n",
       "      <td>0</td>\n",
       "      <td>0</td>\n",
       "      <td>0</td>\n",
       "      <td>0</td>\n",
       "      <td>0</td>\n",
       "    </tr>\n",
       "  </tbody>\n",
       "</table>\n",
       "</div>"
      ],
      "text/plain": [
       "   UDI Product ID Type  Air temperature [K]  Process temperature [K]  \\\n",
       "0    1     M14860    M                298.1                    308.6   \n",
       "1    2     L47181    L                298.2                    308.7   \n",
       "2    3     L47182    L                298.1                    308.5   \n",
       "3    4     L47183    L                298.2                    308.6   \n",
       "4    5     L47184    L                298.2                    308.7   \n",
       "\n",
       "   Rotational speed [rpm]  Torque [Nm]  Tool wear [min]  Machine failure  TWF  \\\n",
       "0                    1551         42.8                0                0    0   \n",
       "1                    1408         46.3                3                0    0   \n",
       "2                    1498         49.4                5                0    0   \n",
       "3                    1433         39.5                7                0    0   \n",
       "4                    1408         40.0                9                0    0   \n",
       "\n",
       "   HDF  PWF  OSF  RNF  \n",
       "0    0    0    0    0  \n",
       "1    0    0    0    0  \n",
       "2    0    0    0    0  \n",
       "3    0    0    0    0  \n",
       "4    0    0    0    0  "
      ]
     },
     "execution_count": 4,
     "metadata": {},
     "output_type": "execute_result"
    }
   ],
   "source": [
    "df.head()"
   ]
  },
  {
   "cell_type": "code",
   "execution_count": 5,
   "id": "f9175ee3",
   "metadata": {},
   "outputs": [
    {
     "name": "stdout",
     "output_type": "stream",
     "text": [
      "Unique values in each column:\n",
      "UDI                            \t10000 values\n",
      "Product ID                     \t10000 values\n",
      "Type                           \t['M' 'L' 'H']\n",
      "Air temperature [K]            \t93 values\n",
      "Process temperature [K]        \t82 values\n",
      "Rotational speed [rpm]         \t941 values\n",
      "Torque [Nm]                    \t577 values\n",
      "Tool wear [min]                \t246 values\n",
      "Machine failure                \t[0 1]\n",
      "TWF                            \t[0 1]\n",
      "HDF                            \t[0 1]\n",
      "PWF                            \t[0 1]\n",
      "OSF                            \t[0 1]\n",
      "RNF                            \t[0 1]\n"
     ]
    }
   ],
   "source": [
    "print(\"Unique values in each column:\")\n",
    "for col in df.columns:\n",
    "    unique_values = df[col].unique()\n",
    "    if len(unique_values) < 10:\n",
    "        print(f\"{col:30} \\t{unique_values}\")\n",
    "    else:   \n",
    "        print(f\"{col:30} \\t{len(df[col].unique())} values\")"
   ]
  },
  {
   "cell_type": "markdown",
   "id": "811ebac4",
   "metadata": {},
   "source": [
    "From the unique values analysis above, we know that UDI and Product ID can be removed.\n",
    "\n",
    "Both columns has 1000 unique values and we have 1000 rows of samples. \n",
    "\n",
    "Hence, the values are unique for each sample."
   ]
  },
  {
   "cell_type": "markdown",
   "id": "61222f1d",
   "metadata": {},
   "source": [
    "## Remove Row Unique ID and Product ID"
   ]
  },
  {
   "cell_type": "code",
   "execution_count": 6,
   "id": "d8523a44",
   "metadata": {},
   "outputs": [
    {
     "name": "stdout",
     "output_type": "stream",
     "text": [
      "shape of data after dropping columns (10000, 12)\n"
     ]
    }
   ],
   "source": [
    "df.drop(columns=['UDI', 'Product ID'], inplace=True)\n",
    "print(f\"shape of data after dropping columns {df.shape}\")"
   ]
  },
  {
   "cell_type": "markdown",
   "id": "117ba582",
   "metadata": {},
   "source": [
    "## Max and Min For Numeric Values"
   ]
  },
  {
   "cell_type": "code",
   "execution_count": 7,
   "id": "96f1cfd6",
   "metadata": {},
   "outputs": [
    {
     "data": {
      "text/html": [
       "<div>\n",
       "<style scoped>\n",
       "    .dataframe tbody tr th:only-of-type {\n",
       "        vertical-align: middle;\n",
       "    }\n",
       "\n",
       "    .dataframe tbody tr th {\n",
       "        vertical-align: top;\n",
       "    }\n",
       "\n",
       "    .dataframe thead th {\n",
       "        text-align: right;\n",
       "    }\n",
       "</style>\n",
       "<table border=\"1\" class=\"dataframe\">\n",
       "  <thead>\n",
       "    <tr style=\"text-align: right;\">\n",
       "      <th></th>\n",
       "      <th>count</th>\n",
       "      <th>mean</th>\n",
       "      <th>std</th>\n",
       "      <th>min</th>\n",
       "      <th>25%</th>\n",
       "      <th>50%</th>\n",
       "      <th>75%</th>\n",
       "      <th>max</th>\n",
       "    </tr>\n",
       "  </thead>\n",
       "  <tbody>\n",
       "    <tr>\n",
       "      <th>Air temperature [K]</th>\n",
       "      <td>10000.0</td>\n",
       "      <td>300.00493</td>\n",
       "      <td>2.000259</td>\n",
       "      <td>295.3</td>\n",
       "      <td>298.3</td>\n",
       "      <td>300.1</td>\n",
       "      <td>301.5</td>\n",
       "      <td>304.5</td>\n",
       "    </tr>\n",
       "    <tr>\n",
       "      <th>Process temperature [K]</th>\n",
       "      <td>10000.0</td>\n",
       "      <td>310.00556</td>\n",
       "      <td>1.483734</td>\n",
       "      <td>305.7</td>\n",
       "      <td>308.8</td>\n",
       "      <td>310.1</td>\n",
       "      <td>311.1</td>\n",
       "      <td>313.8</td>\n",
       "    </tr>\n",
       "    <tr>\n",
       "      <th>Rotational speed [rpm]</th>\n",
       "      <td>10000.0</td>\n",
       "      <td>1538.77610</td>\n",
       "      <td>179.284096</td>\n",
       "      <td>1168.0</td>\n",
       "      <td>1423.0</td>\n",
       "      <td>1503.0</td>\n",
       "      <td>1612.0</td>\n",
       "      <td>2886.0</td>\n",
       "    </tr>\n",
       "    <tr>\n",
       "      <th>Torque [Nm]</th>\n",
       "      <td>10000.0</td>\n",
       "      <td>39.98691</td>\n",
       "      <td>9.968934</td>\n",
       "      <td>3.8</td>\n",
       "      <td>33.2</td>\n",
       "      <td>40.1</td>\n",
       "      <td>46.8</td>\n",
       "      <td>76.6</td>\n",
       "    </tr>\n",
       "    <tr>\n",
       "      <th>Tool wear [min]</th>\n",
       "      <td>10000.0</td>\n",
       "      <td>107.95100</td>\n",
       "      <td>63.654147</td>\n",
       "      <td>0.0</td>\n",
       "      <td>53.0</td>\n",
       "      <td>108.0</td>\n",
       "      <td>162.0</td>\n",
       "      <td>253.0</td>\n",
       "    </tr>\n",
       "  </tbody>\n",
       "</table>\n",
       "</div>"
      ],
      "text/plain": [
       "                           count        mean         std     min     25%  \\\n",
       "Air temperature [K]      10000.0   300.00493    2.000259   295.3   298.3   \n",
       "Process temperature [K]  10000.0   310.00556    1.483734   305.7   308.8   \n",
       "Rotational speed [rpm]   10000.0  1538.77610  179.284096  1168.0  1423.0   \n",
       "Torque [Nm]              10000.0    39.98691    9.968934     3.8    33.2   \n",
       "Tool wear [min]          10000.0   107.95100   63.654147     0.0    53.0   \n",
       "\n",
       "                            50%     75%     max  \n",
       "Air temperature [K]       300.1   301.5   304.5  \n",
       "Process temperature [K]   310.1   311.1   313.8  \n",
       "Rotational speed [rpm]   1503.0  1612.0  2886.0  \n",
       "Torque [Nm]                40.1    46.8    76.6  \n",
       "Tool wear [min]           108.0   162.0   253.0  "
      ]
     },
     "execution_count": 7,
     "metadata": {},
     "output_type": "execute_result"
    }
   ],
   "source": [
    "exclude = ['Type','Machine failure', 'TWF', 'HDF', 'PWF', 'OSF', 'RNF']\n",
    "df.drop(exclude, axis=1).describe().T"
   ]
  },
  {
   "cell_type": "markdown",
   "id": "fb5c4670",
   "metadata": {},
   "source": [
    "## Convert Type To Numeric"
   ]
  },
  {
   "cell_type": "code",
   "execution_count": 8,
   "id": "847136a9",
   "metadata": {},
   "outputs": [
    {
     "name": "stdout",
     "output_type": "stream",
     "text": [
      " Type  Unique Values after encoding:  [1, 0, 2]\n",
      "Categories (3, int64): [2, 0, 1]\n"
     ]
    }
   ],
   "source": [
    "df['Type'] = df['Type'].astype('category')\n",
    "type_mapping = {'L': 0, 'M': 1, 'H': 2}\n",
    "df['Type'] = df['Type'].map(type_mapping)\n",
    "print(\" Type  Unique Values after encoding: \", df['Type'].unique())"
   ]
  },
  {
   "cell_type": "markdown",
   "id": "6ecfe959",
   "metadata": {},
   "source": [
    "## Check for Duplicates And Missing Data"
   ]
  },
  {
   "cell_type": "code",
   "execution_count": 9,
   "id": "478d263d",
   "metadata": {},
   "outputs": [
    {
     "name": "stdout",
     "output_type": "stream",
     "text": [
      "number of duplicated rows :  0\n",
      "number of null values :  0\n"
     ]
    }
   ],
   "source": [
    "print(\"number of duplicated rows : \", df.duplicated().sum())\n",
    "print(\"number of null values : \", df.isnull().sum().sum())"
   ]
  },
  {
   "cell_type": "markdown",
   "id": "6c237085",
   "metadata": {},
   "source": [
    "Our data does not seem to have any duplicate or missing data.\n",
    "This is given the data is synthetic data created through simulation."
   ]
  },
  {
   "cell_type": "markdown",
   "id": "46faeab5",
   "metadata": {},
   "source": [
    "## Check Our Target and Label"
   ]
  },
  {
   "cell_type": "markdown",
   "id": "69e6adbc",
   "metadata": {},
   "source": [
    "We want to check whether there is any machine failures that are not attributed to the 5 known failures\n",
    "\n",
    "This should be changed to non failure as RNF already handled random failure.\n",
    "\n",
    "Hence, this is data error and should have been a pass"
   ]
  },
  {
   "cell_type": "code",
   "execution_count": 10,
   "id": "8d3db47b",
   "metadata": {},
   "outputs": [
    {
     "name": "stdout",
     "output_type": "stream",
     "text": [
      "Number of machine failures: 339\n",
      "Number of failures due to unknown reasons: 9\n",
      "Number of failures due to unknown reasons after fix: 0\n"
     ]
    }
   ],
   "source": [
    "# check machine failure\n",
    "\n",
    "\n",
    "def unknown_fail_check(row): return ((row['Machine failure'] == 1)\n",
    "                                     & (row['RNF'] == 0)\n",
    "                                     & (row['HDF'] == 0)\n",
    "                                     & (row['TWF'] == 0)\n",
    "                                     & (row['PWF'] == 0)\n",
    "                                     & (row['OSF'] == 0))\n",
    "\n",
    "\n",
    "print(f\"Number of machine failures: {df['Machine failure'].sum()}\")\n",
    "unknown_failures = df[unknown_fail_check(df)]\n",
    "print(\n",
    "    f\"Number of failures due to unknown reasons: {len(unknown_failures)}\")\n",
    "unknown_failures.loc[:, ['Machine failure',\n",
    "                         'TWF', 'HDF', 'PWF', 'OSF', 'RNF']].head(10)\n",
    "df['Machine failure'] = np.where(\n",
    "    unknown_fail_check(df), 0, df['Machine failure'])\n",
    "unknown_failures = df[unknown_fail_check(df)]\n",
    "print(\n",
    "    f\"Number of failures due to unknown reasons after fix: {len(unknown_failures)}\")"
   ]
  },
  {
   "cell_type": "code",
   "execution_count": 11,
   "id": "dcb38e57",
   "metadata": {},
   "outputs": [
    {
     "name": "stdout",
     "output_type": "stream",
     "text": [
      "Number of samples that passed although failed: 18\n",
      "Number of samples that passed although failed after fix: 0\n"
     ]
    }
   ],
   "source": [
    "\n",
    "def pass_yet_fail_check(row): return (row['Machine failure'] == 0) & ((row['RNF'] == 1)\n",
    "                                                                     | (row['HDF'] == 1)\n",
    "                                                                     | (row['TWF'] == 1)\n",
    "                                                                     | (row['PWF'] == 1)\n",
    "                                                                     | (row['OSF'] == 1))\n",
    "passed_although_failed = df[pass_yet_fail_check(df)]\n",
    "print(\n",
    "    f\"Number of samples that passed although failed: {len(passed_although_failed)}\")\n",
    "passed_although_failed.loc[:, ['Machine failure',\n",
    "                               'TWF', 'HDF', 'PWF', 'OSF', 'RNF']].head(10)\n",
    "df['Machine failure'] = np.where(\n",
    "    pass_yet_fail_check(df), 1, df['Machine failure'])\n",
    "passed_although_failed = df[pass_yet_fail_check(df)]\n",
    "print(\n",
    "    f\"Number of samples that passed although failed after fix: {len(passed_although_failed)}\")\n"
   ]
  },
  {
   "cell_type": "markdown",
   "id": "df129747",
   "metadata": {},
   "source": [
    "## Save Data"
   ]
  },
  {
   "cell_type": "code",
   "execution_count": 12,
   "id": "e4c34b6f",
   "metadata": {},
   "outputs": [],
   "source": [
    "df.to_csv('ai4i2020_cleaned.csv', index=False)"
   ]
  },
  {
   "cell_type": "markdown",
   "id": "4334431c",
   "metadata": {},
   "source": []
  }
 ],
 "metadata": {
  "kernelspec": {
   "display_name": "ml",
   "language": "python",
   "name": "python3"
  },
  "language_info": {
   "codemirror_mode": {
    "name": "ipython",
    "version": 3
   },
   "file_extension": ".py",
   "mimetype": "text/x-python",
   "name": "python",
   "nbconvert_exporter": "python",
   "pygments_lexer": "ipython3",
   "version": "3.13.2"
  }
 },
 "nbformat": 4,
 "nbformat_minor": 5
}
