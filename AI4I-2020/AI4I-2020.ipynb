{
 "cells": [
  {
   "cell_type": "code",
   "execution_count": 28,
   "id": "a92f3cbc",
   "metadata": {},
   "outputs": [],
   "source": [
    "import pandas as pd\n",
    "import numpy as np\n",
    "from sklearn.model_selection import train_test_split\n",
    "from sklearn.metrics import fbeta_score, confusion_matrix, ConfusionMatrixDisplay\n",
    "import matplotlib.pyplot as plt\n"
   ]
  },
  {
   "cell_type": "code",
   "execution_count": 29,
   "id": "d3d683ec",
   "metadata": {},
   "outputs": [
    {
     "name": "stdout",
     "output_type": "stream",
     "text": [
      "shape of data (10000, 14)\n",
      "<class 'pandas.core.frame.DataFrame'>\n",
      "RangeIndex: 10000 entries, 0 to 9999\n",
      "Data columns (total 14 columns):\n",
      " #   Column                   Non-Null Count  Dtype  \n",
      "---  ------                   --------------  -----  \n",
      " 0   UDI                      10000 non-null  int64  \n",
      " 1   Product ID               10000 non-null  object \n",
      " 2   Type                     10000 non-null  object \n",
      " 3   Air temperature [K]      10000 non-null  float64\n",
      " 4   Process temperature [K]  10000 non-null  float64\n",
      " 5   Rotational speed [rpm]   10000 non-null  int64  \n",
      " 6   Torque [Nm]              10000 non-null  float64\n",
      " 7   Tool wear [min]          10000 non-null  int64  \n",
      " 8   Machine failure          10000 non-null  int64  \n",
      " 9   TWF                      10000 non-null  int64  \n",
      " 10  HDF                      10000 non-null  int64  \n",
      " 11  PWF                      10000 non-null  int64  \n",
      " 12  OSF                      10000 non-null  int64  \n",
      " 13  RNF                      10000 non-null  int64  \n",
      "dtypes: float64(3), int64(9), object(2)\n",
      "memory usage: 1.1+ MB\n"
     ]
    }
   ],
   "source": [
    "original_df=pd.read_csv('ai4i2020.csv')\n",
    "print(f\"shape of data {original_df.shape}\")\n",
    "original_df.info()"
   ]
  },
  {
   "cell_type": "code",
   "execution_count": 30,
   "id": "b9bf5a78",
   "metadata": {},
   "outputs": [
    {
     "data": {
      "text/html": [
       "<div>\n",
       "<style scoped>\n",
       "    .dataframe tbody tr th:only-of-type {\n",
       "        vertical-align: middle;\n",
       "    }\n",
       "\n",
       "    .dataframe tbody tr th {\n",
       "        vertical-align: top;\n",
       "    }\n",
       "\n",
       "    .dataframe thead th {\n",
       "        text-align: right;\n",
       "    }\n",
       "</style>\n",
       "<table border=\"1\" class=\"dataframe\">\n",
       "  <thead>\n",
       "    <tr style=\"text-align: right;\">\n",
       "      <th></th>\n",
       "      <th>count</th>\n",
       "      <th>mean</th>\n",
       "      <th>std</th>\n",
       "      <th>min</th>\n",
       "      <th>25%</th>\n",
       "      <th>50%</th>\n",
       "      <th>75%</th>\n",
       "      <th>max</th>\n",
       "    </tr>\n",
       "  </thead>\n",
       "  <tbody>\n",
       "    <tr>\n",
       "      <th>UDI</th>\n",
       "      <td>10000.0</td>\n",
       "      <td>5000.50000</td>\n",
       "      <td>2886.895680</td>\n",
       "      <td>1.0</td>\n",
       "      <td>2500.75</td>\n",
       "      <td>5000.5</td>\n",
       "      <td>7500.25</td>\n",
       "      <td>10000.0</td>\n",
       "    </tr>\n",
       "    <tr>\n",
       "      <th>Air temperature [K]</th>\n",
       "      <td>10000.0</td>\n",
       "      <td>300.00493</td>\n",
       "      <td>2.000259</td>\n",
       "      <td>295.3</td>\n",
       "      <td>298.30</td>\n",
       "      <td>300.1</td>\n",
       "      <td>301.50</td>\n",
       "      <td>304.5</td>\n",
       "    </tr>\n",
       "    <tr>\n",
       "      <th>Process temperature [K]</th>\n",
       "      <td>10000.0</td>\n",
       "      <td>310.00556</td>\n",
       "      <td>1.483734</td>\n",
       "      <td>305.7</td>\n",
       "      <td>308.80</td>\n",
       "      <td>310.1</td>\n",
       "      <td>311.10</td>\n",
       "      <td>313.8</td>\n",
       "    </tr>\n",
       "    <tr>\n",
       "      <th>Rotational speed [rpm]</th>\n",
       "      <td>10000.0</td>\n",
       "      <td>1538.77610</td>\n",
       "      <td>179.284096</td>\n",
       "      <td>1168.0</td>\n",
       "      <td>1423.00</td>\n",
       "      <td>1503.0</td>\n",
       "      <td>1612.00</td>\n",
       "      <td>2886.0</td>\n",
       "    </tr>\n",
       "    <tr>\n",
       "      <th>Torque [Nm]</th>\n",
       "      <td>10000.0</td>\n",
       "      <td>39.98691</td>\n",
       "      <td>9.968934</td>\n",
       "      <td>3.8</td>\n",
       "      <td>33.20</td>\n",
       "      <td>40.1</td>\n",
       "      <td>46.80</td>\n",
       "      <td>76.6</td>\n",
       "    </tr>\n",
       "    <tr>\n",
       "      <th>Tool wear [min]</th>\n",
       "      <td>10000.0</td>\n",
       "      <td>107.95100</td>\n",
       "      <td>63.654147</td>\n",
       "      <td>0.0</td>\n",
       "      <td>53.00</td>\n",
       "      <td>108.0</td>\n",
       "      <td>162.00</td>\n",
       "      <td>253.0</td>\n",
       "    </tr>\n",
       "    <tr>\n",
       "      <th>Machine failure</th>\n",
       "      <td>10000.0</td>\n",
       "      <td>0.03390</td>\n",
       "      <td>0.180981</td>\n",
       "      <td>0.0</td>\n",
       "      <td>0.00</td>\n",
       "      <td>0.0</td>\n",
       "      <td>0.00</td>\n",
       "      <td>1.0</td>\n",
       "    </tr>\n",
       "    <tr>\n",
       "      <th>TWF</th>\n",
       "      <td>10000.0</td>\n",
       "      <td>0.00460</td>\n",
       "      <td>0.067671</td>\n",
       "      <td>0.0</td>\n",
       "      <td>0.00</td>\n",
       "      <td>0.0</td>\n",
       "      <td>0.00</td>\n",
       "      <td>1.0</td>\n",
       "    </tr>\n",
       "    <tr>\n",
       "      <th>HDF</th>\n",
       "      <td>10000.0</td>\n",
       "      <td>0.01150</td>\n",
       "      <td>0.106625</td>\n",
       "      <td>0.0</td>\n",
       "      <td>0.00</td>\n",
       "      <td>0.0</td>\n",
       "      <td>0.00</td>\n",
       "      <td>1.0</td>\n",
       "    </tr>\n",
       "    <tr>\n",
       "      <th>PWF</th>\n",
       "      <td>10000.0</td>\n",
       "      <td>0.00950</td>\n",
       "      <td>0.097009</td>\n",
       "      <td>0.0</td>\n",
       "      <td>0.00</td>\n",
       "      <td>0.0</td>\n",
       "      <td>0.00</td>\n",
       "      <td>1.0</td>\n",
       "    </tr>\n",
       "    <tr>\n",
       "      <th>OSF</th>\n",
       "      <td>10000.0</td>\n",
       "      <td>0.00980</td>\n",
       "      <td>0.098514</td>\n",
       "      <td>0.0</td>\n",
       "      <td>0.00</td>\n",
       "      <td>0.0</td>\n",
       "      <td>0.00</td>\n",
       "      <td>1.0</td>\n",
       "    </tr>\n",
       "    <tr>\n",
       "      <th>RNF</th>\n",
       "      <td>10000.0</td>\n",
       "      <td>0.00190</td>\n",
       "      <td>0.043550</td>\n",
       "      <td>0.0</td>\n",
       "      <td>0.00</td>\n",
       "      <td>0.0</td>\n",
       "      <td>0.00</td>\n",
       "      <td>1.0</td>\n",
       "    </tr>\n",
       "  </tbody>\n",
       "</table>\n",
       "</div>"
      ],
      "text/plain": [
       "                           count        mean          std     min      25%  \\\n",
       "UDI                      10000.0  5000.50000  2886.895680     1.0  2500.75   \n",
       "Air temperature [K]      10000.0   300.00493     2.000259   295.3   298.30   \n",
       "Process temperature [K]  10000.0   310.00556     1.483734   305.7   308.80   \n",
       "Rotational speed [rpm]   10000.0  1538.77610   179.284096  1168.0  1423.00   \n",
       "Torque [Nm]              10000.0    39.98691     9.968934     3.8    33.20   \n",
       "Tool wear [min]          10000.0   107.95100    63.654147     0.0    53.00   \n",
       "Machine failure          10000.0     0.03390     0.180981     0.0     0.00   \n",
       "TWF                      10000.0     0.00460     0.067671     0.0     0.00   \n",
       "HDF                      10000.0     0.01150     0.106625     0.0     0.00   \n",
       "PWF                      10000.0     0.00950     0.097009     0.0     0.00   \n",
       "OSF                      10000.0     0.00980     0.098514     0.0     0.00   \n",
       "RNF                      10000.0     0.00190     0.043550     0.0     0.00   \n",
       "\n",
       "                            50%      75%      max  \n",
       "UDI                      5000.5  7500.25  10000.0  \n",
       "Air temperature [K]       300.1   301.50    304.5  \n",
       "Process temperature [K]   310.1   311.10    313.8  \n",
       "Rotational speed [rpm]   1503.0  1612.00   2886.0  \n",
       "Torque [Nm]                40.1    46.80     76.6  \n",
       "Tool wear [min]           108.0   162.00    253.0  \n",
       "Machine failure             0.0     0.00      1.0  \n",
       "TWF                         0.0     0.00      1.0  \n",
       "HDF                         0.0     0.00      1.0  \n",
       "PWF                         0.0     0.00      1.0  \n",
       "OSF                         0.0     0.00      1.0  \n",
       "RNF                         0.0     0.00      1.0  "
      ]
     },
     "execution_count": 30,
     "metadata": {},
     "output_type": "execute_result"
    }
   ],
   "source": [
    "original_df.describe().T\n"
   ]
  },
  {
   "cell_type": "code",
   "execution_count": 31,
   "id": "c9df2ee9",
   "metadata": {},
   "outputs": [
    {
     "name": "stdout",
     "output_type": "stream",
     "text": [
      "   Type  Air temperature [K]  Process temperature [K]  Rotational speed [rpm]  \\\n",
      "0     2                298.1                    308.6                    1551   \n",
      "1     1                298.2                    308.7                    1408   \n",
      "2     1                298.1                    308.5                    1498   \n",
      "3     1                298.2                    308.6                    1433   \n",
      "4     1                298.2                    308.7                    1408   \n",
      "\n",
      "   Torque [Nm]  Tool wear [min]  Machine failure  \n",
      "0         42.8                0                0  \n",
      "1         46.3                3                0  \n",
      "2         49.4                5                0  \n",
      "3         39.5                7                0  \n",
      "4         40.0                9                0  \n"
     ]
    }
   ],
   "source": [
    "from sklearn.preprocessing import LabelEncoder\n",
    "le = LabelEncoder()\n",
    "drop_columns = ['UDI','TWF','HDF','PWF','OSF','RNF', 'Product ID']\n",
    "df = original_df.drop(drop_columns, axis=1)\n",
    "df['Type'] = le.fit_transform(df['Type'])\n",
    "print(df.head())\n",
    "X = df.loc[:, df.columns!='Machine failure']\n",
    "y = df.loc[:, df.columns=='Machine failure']"
   ]
  },
  {
   "cell_type": "code",
   "execution_count": 21,
   "id": "2b8e62b7",
   "metadata": {},
   "outputs": [],
   "source": [
    "x_train, x_test, y_train, y_test = train_test_split(X, y, \n",
    "                                                    test_size=0.2, \n",
    "                                                    random_state=42)"
   ]
  },
  {
   "cell_type": "code",
   "execution_count": 32,
   "id": "eac7259a",
   "metadata": {},
   "outputs": [
    {
     "name": "stderr",
     "output_type": "stream",
     "text": [
      "/opt/anaconda3/envs/ml/lib/python3.13/site-packages/sklearn/utils/validation.py:1408: DataConversionWarning: A column-vector y was passed when a 1d array was expected. Please change the shape of y to (n_samples, ), for example using ravel().\n",
      "  y = column_or_1d(y, warn=True)\n"
     ]
    },
    {
     "name": "stdout",
     "output_type": "stream",
     "text": [
      "0.2962962962962963\n",
      "0.9725\n"
     ]
    },
    {
     "data": {
      "image/png": "[encoded data removed]",
      "text/plain": [
       "<Figure size 640x480 with 2 Axes>"
      ]
     },
     "metadata": {},
     "output_type": "display_data"
    }
   ],
   "source": [
    "from sklearn.linear_model import LogisticRegression\n",
    "lr = LogisticRegression(random_state=42)\n",
    "lr.fit(x_train, y_train)\n",
    "y_pred=lr.predict(x_test)\n",
    "print(fbeta_score(y_test, y_pred, beta=2.0))\n",
    "print(lr.score(x_test, y_test))\n",
    "cm = confusion_matrix(y_test, y_pred, labels=lr.classes_)\n",
    "disp = ConfusionMatrixDisplay(confusion_matrix=cm,\n",
    "                              display_labels=lr.classes_)\n",
    "disp.plot()\n",
    "plt.show()\n"
   ]
  },
  {
   "cell_type": "markdown",
   "id": "a2f928a4",
   "metadata": {},
   "source": [
    "Let's balance our data"
   ]
  },
  {
   "cell_type": "code",
   "execution_count": null,
   "id": "d7ac4e95",
   "metadata": {},
   "outputs": [],
   "source": []
  }
 ],
 "metadata": {
  "kernelspec": {
   "display_name": "ml",
   "language": "python",
   "name": "python3"
  },
  "language_info": {
   "codemirror_mode": {
    "name": "ipython",
    "version": 3
   },
   "file_extension": ".py",
   "mimetype": "text/x-python",
   "name": "python",
   "nbconvert_exporter": "python",
   "pygments_lexer": "ipython3",
   "version": "3.13.2"
  }
 },
 "nbformat": 4,
 "nbformat_minor": 5
}
