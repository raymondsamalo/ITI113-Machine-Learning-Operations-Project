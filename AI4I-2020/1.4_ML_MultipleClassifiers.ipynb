{
 "cells": [
  {
   "cell_type": "markdown",
   "id": "cd1b641a",
   "metadata": {},
   "source": [
    "# Multiple classifiers\n",
    "\n",
    "We will attempt to create methods to train and evaluate multiple multi-output classifier and rank them based on F2 score\n",
    "\n",
    "Given we were not able to create a good balanced dataset, we will test using original dataset with reduced features "
   ]
  },
  {
   "cell_type": "code",
   "execution_count": 5,
   "id": "bd304f03",
   "metadata": {},
   "outputs": [],
   "source": [
    "import pandas as pd\n",
    "import numpy as np\n",
    "import seaborn as sns\n",
    "import matplotlib.pyplot as plt\n"
   ]
  },
  {
   "cell_type": "code",
   "execution_count": 6,
   "id": "3928ea80",
   "metadata": {},
   "outputs": [],
   "source": [
    "X_train=pd.read_csv('X_train.csv')\n",
    "y_train=pd.read_csv('y_train.csv')\n",
    "X_test=pd.read_csv('X_test.csv')\n",
    "y_test=pd.read_csv('y_test.csv')\n",
    "y_train_omf = y_train['Machine failure']\n",
    "y_test_omf = y_test['Machine failure']\n",
    "X_train_reduced = X_train.drop(columns=['Torque [Nm]', 'Process temperature [K]', 'Air temperature [K]'])\n",
    "X_test_reduced = X_test.drop(columns=['Torque [Nm]', 'Process temperature [K]', 'Air temperature [K]'])\n"
   ]
  },
  {
   "cell_type": "code",
   "execution_count": 7,
   "id": "2716d9f0",
   "metadata": {},
   "outputs": [],
   "source": [
    "from sklearn.metrics import classification_report, fbeta_score, precision_score, recall_score, accuracy_score\n",
    "from sklearn.metrics import ConfusionMatrixDisplay, confusion_matrix\n",
    "import matplotlib.pyplot as plt\n",
    "\n",
    "def analyze_model_performance(clf, X_train=X_train, y_train=y_train, X_test=X_test, y_test=y_test):\n",
    "    y_train_omf = y_train['Machine failure']\n",
    "    y_test_omf = y_test['Machine failure']\n",
    "    clf.fit(X_train, y_train_omf)\n",
    "    y_train_pred_omf = clf.predict(X_train)\n",
    "    y_test_pred_omf = clf.predict(X_test)\n",
    "    f2_train=fbeta_score(y_train_omf, y_train_pred_omf, beta=2, average='macro')\n",
    "    f2_test=fbeta_score(y_test_omf, y_test_pred_omf, beta=2, average='macro')\n",
    "    train_recall=recall_score(y_train_omf, y_train_pred_omf, average='macro')\n",
    "    test_recall=recall_score(y_test_omf, y_test_pred_omf, average='macro')\n",
    "    train_precision=precision_score(y_train_omf, y_train_pred_omf, average='macro', zero_division=0)\n",
    "    test_precision=precision_score(y_test_omf, y_test_pred_omf, average='macro', zero_division=0)\n",
    "    train_accuracy=accuracy_score(y_train_omf, y_train_pred_omf)\n",
    "    test_accuracy=accuracy_score(y_test_omf, y_test_pred_omf)\n",
    "    predictor_name = clf.__class__.__name__\n",
    "\n",
    "\n",
    "    plt.figure(figsize=(15, 5))\n",
    "    cm = confusion_matrix(y_train_omf, y_train_pred_omf)\n",
    "    disp = ConfusionMatrixDisplay(confusion_matrix=cm, display_labels=['No Failure', 'Failure'])\n",
    "    disp.plot(cmap=plt.cm.Blues, ax=plt.subplot(1, 2, 1))\n",
    "    plt.title(f'{predictor_name} on Train Data')\n",
    "    cm = confusion_matrix(y_test_omf, y_test_pred_omf)\n",
    "    disp = ConfusionMatrixDisplay(confusion_matrix=cm, display_labels=['No Failure', 'Failure'])\n",
    "    disp.plot(cmap=plt.cm.Blues, ax=plt.subplot(1, 2, 2))\n",
    "    plt.title(f'{predictor_name} on Test Data')\n",
    "    plt.show()\n",
    "\n",
    "\n",
    "    print(\" For `Machine failure` label:\")\n",
    "    print(predictor_name, \" :\")\n",
    "    print(f\"- F2 Score on Training Data: {f2_train}\")\n",
    "    print(f\"- F2 Score on Test Data: {f2_test}\")\n",
    "    print(f\"- Accuracy on Training Data: {train_accuracy}\")\n",
    "    print(f\"- Accuracy on Test Data: {test_accuracy}\")\n",
    "    print(f\"- Recall on Training Data: {train_recall}\")\n",
    "    print(f\"- Recall on Test Data: {test_recall}\")\n",
    "    print(f\"- Precision on Training Data: {train_precision}\")\n",
    "    print(f\"- Precision on Test Data: {test_precision}\")\n"
   ]
  },
  {
   "cell_type": "markdown",
   "id": "1ec65c11",
   "metadata": {},
   "source": [
    "# Multi-label / output Classifier"
   ]
  },
  {
   "cell_type": "markdown",
   "id": "32815f94",
   "metadata": {},
   "source": [
    "Given our data is actually multilabel, it will be good to produce a model that can also identify the type of failures not just `Machine failure`\n",
    "\n",
    "However, we won't be able to use balanced dataset unless we could figure out how to create balanced data set for multi label data"
   ]
  },
  {
   "cell_type": "code",
   "execution_count": 8,
   "id": "487fb82a",
   "metadata": {},
   "outputs": [
    {
     "name": "stdout",
     "output_type": "stream",
     "text": [
      "F2 value on test data 0.9361787141519724\n",
      "Accuracy on test data 0.9935\n"
     ]
    }
   ],
   "source": [
    "from sklearn.tree import DecisionTreeClassifier\n",
    "from sklearn.multioutput import MultiOutputClassifier\n",
    "cdt = DecisionTreeClassifier(random_state=42, max_depth=5, min_samples_split=10, min_samples_leaf=5)\n",
    "cdt = MultiOutputClassifier(cdt)\n",
    "cdt.fit(X_train_reduced, y_train)\n",
    "y_pred=cdt.predict(X_test_reduced)\n",
    "y_pred = pd.DataFrame(y_pred, columns=y_test.columns)\n",
    "f2_test=fbeta_score(y_test['Machine failure'], y_pred['Machine failure'], beta=2, average='macro')\n",
    "accuracy=accuracy_score(y_test['Machine failure'], y_pred['Machine failure'])\n",
    "print(\"F2 value on test data\", f2_test)\n",
    "print(\"Accuracy on test data\", accuracy)\n"
   ]
  },
  {
   "cell_type": "markdown",
   "id": "2f3a2576",
   "metadata": {},
   "source": [
    "Looking at the output for 'Machine Learning' our multi-output classifier actually performed better than all other classifier that we trained previously\n",
    "\n",
    "For machine failure:\n",
    "- False Negative is very low\n",
    "- False Positive increased but by a little bit\n",
    "- F2 is good 0.9361787141519724\n",
    "- Accuracy is 0.9935"
   ]
  },
  {
   "cell_type": "markdown",
   "id": "6bdcbf21",
   "metadata": {},
   "source": [
    "# Conclusion"
   ]
  },
  {
   "cell_type": "markdown",
   "id": "6747439a",
   "metadata": {},
   "source": [
    "We learned few things while evaluating DecisionTreeClassifier\n",
    "\n",
    "- Reduced Features improve the F2 and Accuracy as we have simpler model and less noises\n",
    "- Multi-output classifier work well\n",
    "- SMOTE Balanced dataset may not work well for our dataset given that we may accidentally introduce noises by injecting synthetic observations that may destroy the pattern of the minority class (ref: https://towardsdatascience.com/why-smote-is-not-necessarily-the-answer-to-your-imbalanced-dataset-ef19881da57a/)\n",
    "\n"
   ]
  }
 ],
 "metadata": {
  "kernelspec": {
   "display_name": "ml",
   "language": "python",
   "name": "python3"
  },
  "language_info": {
   "codemirror_mode": {
    "name": "ipython",
    "version": 3
   },
   "file_extension": ".py",
   "mimetype": "text/x-python",
   "name": "python",
   "nbconvert_exporter": "python",
   "pygments_lexer": "ipython3",
   "version": "3.13.2"
  }
 },
 "nbformat": 4,
 "nbformat_minor": 5
}
