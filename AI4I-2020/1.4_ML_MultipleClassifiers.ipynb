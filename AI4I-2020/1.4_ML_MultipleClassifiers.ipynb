{
 "cells": [
  {
   "cell_type": "markdown",
   "id": "cd1b641a",
   "metadata": {},
   "source": [
    "# Multiple classifiers\n",
    "\n",
    "We will attempt to create methods to train and evaluate multiple multi-output classifier and rank them based on F2 score\n",
    "\n",
    "Given we were not able to create a good balanced dataset, we will test using original dataset with reduced features "
   ]
  },
  {
   "cell_type": "code",
   "execution_count": 3,
   "id": "bd304f03",
   "metadata": {},
   "outputs": [],
   "source": [
    "import pandas as pd\n",
    "import numpy as np\n",
    "import seaborn as sns\n",
    "import matplotlib.pyplot as plt\n"
   ]
  },
  {
   "cell_type": "code",
   "execution_count": 4,
   "id": "3928ea80",
   "metadata": {},
   "outputs": [],
   "source": [
    "X_train=pd.read_csv('X_train.csv')\n",
    "y_train=pd.read_csv('y_train.csv')\n",
    "X_test=pd.read_csv('X_test.csv')\n",
    "y_test=pd.read_csv('y_test.csv')\n",
    "y_train_omf = y_train['Machine failure']\n",
    "y_test_omf = y_test['Machine failure']\n",
    "X_train_reduced = X_train.drop(columns=['Torque [Nm]', 'Process temperature [K]', 'Air temperature [K]'])\n",
    "X_test_reduced = X_test.drop(columns=['Torque [Nm]', 'Process temperature [K]', 'Air temperature [K]'])\n"
   ]
  },
  {
   "cell_type": "code",
   "execution_count": 19,
   "id": "2716d9f0",
   "metadata": {},
   "outputs": [],
   "source": [
    "from sklearn.metrics import fbeta_score, precision_score, recall_score, accuracy_score\n",
    "from sklearn.metrics import confusion_matrix\n",
    "from sklearn.multioutput import MultiOutputClassifier\n",
    "\n",
    "def get_ml_perf_machine_failure(name, clf, X_train=X_train, y_train=y_train, X_test=X_test, y_test=y_test):\n",
    "    y_train_omf = y_train['Machine failure']\n",
    "    y_test_omf = y_test['Machine failure']\n",
    "    clf = MultiOutputClassifier(clf)\n",
    "    clf.fit(X_train, y_train)\n",
    "    y_train_pred= clf.predict(X_train)\n",
    "    y_train_pred = pd.DataFrame(y_train_pred, columns=y_test.columns)\n",
    "    y_test_pred = clf.predict(X_test)\n",
    "    y_test_pred = pd.DataFrame(y_test_pred, columns=y_test.columns)\n",
    "    y_test_pred_omf = y_test_pred['Machine failure']\n",
    "    y_train_pred_omf = y_train_pred['Machine failure']\n",
    "    f2_train=fbeta_score(y_train_omf, y_train_pred_omf, beta=2, average='macro')\n",
    "    f2_test=fbeta_score(y_test_omf, y_test_pred_omf, beta=2, average='macro')\n",
    "    train_recall=recall_score(y_train_omf, y_train_pred_omf, average='macro')\n",
    "    test_recall=recall_score(y_test_omf, y_test_pred_omf, average='macro')\n",
    "    train_precision=precision_score(y_train_omf, y_train_pred_omf, average='macro', zero_division=0)\n",
    "    test_precision=precision_score(y_test_omf, y_test_pred_omf, average='macro', zero_division=0)\n",
    "    train_accuracy=accuracy_score(y_train_omf, y_train_pred_omf)\n",
    "    test_accuracy=accuracy_score(y_test_omf, y_test_pred_omf)\n",
    "    predictor_name = clf.__class__.__name__\n",
    "    cm = confusion_matrix(y_train_omf, y_train_pred_omf)\n",
    "    train_tn, train_fp, train_fn, train_tp = cm.ravel()\n",
    "    cm = confusion_matrix(y_test_omf, y_test_pred_omf)\n",
    "    test_tn, test_fp, test_fn, test_tp = cm.ravel()\n",
    "    result = {\n",
    "        \"multi-output-classifier\": clf,\n",
    "        \"f2_train\": f2_train,\n",
    "        \"f2_test\": f2_test,\n",
    "        \"train_accuracy\": train_accuracy,\n",
    "        \"test_accuracy\": test_accuracy,\n",
    "        \"train_recall\":train_recall,\n",
    "        \"test_recall\": test_recall,\n",
    "        \"test_precision\": test_precision,\n",
    "        \"train_precision\":train_precision,\n",
    "        \"predictor_name\": predictor_name,\n",
    "        \"train_fp\": train_fp,\n",
    "        \"train_fn\": train_fn,\n",
    "        \"test_fp\": test_fp,\n",
    "        \"test_fn\": test_fn,\n",
    "        \"train_tp\": train_tp,\n",
    "        \"train_tn\": train_tn,\n",
    "        \"test_tp\": test_tp,\n",
    "        \"test_tn\": test_tn,\n",
    "        \"test_pred\": y_test_pred,\n",
    "        \"train_pred\": y_train_pred,\n",
    "        \"name\": name        \n",
    "    }\n",
    "    return result\n",
    "\n",
    "def evaluate_models(models:dict,  X_train=X_train, y_train=y_train, X_test=X_test, y_test=y_test):\n",
    "    results = []\n",
    "    for name, model in models.items():\n",
    "        results.append(get_ml_perf_machine_failure(name, model, X_train=X_train, y_train=y_train, X_test=X_test, y_test=y_test))\n",
    "    results.sort(reverse=True, key=lambda result: result[\"f2_test\"])\n",
    "    return results"
   ]
  },
  {
   "cell_type": "code",
   "execution_count": null,
   "id": "e759889d",
   "metadata": {},
   "outputs": [
    {
     "name": "stdout",
     "output_type": "stream",
     "text": [
      "Random Forest : f2-test 0.9407343195310682 f2-train  1.0 test-fp 4 test-fn 9\n",
      "Decision Tree : f2-test 0.9332290095242384 f2-train  1.0 test-fp 5 test-fn 10\n",
      "Naive Bayes : f2-test 0.7564574203376353 f2-train  0.7337608297863116 test-fp 52 test-fn 30\n",
      "AdaBoost : f2-test 0.7321308165707225 f2-train  0.7338676001425131 test-fp 8 test-fn 40\n",
      "Nearest Neighbors : f2-test 0.6974038912427293 f2-train  0.7460419909855751 test-fp 6 test-fn 45\n",
      "{'estimator__bootstrap': True, 'estimator__ccp_alpha': 0.0, 'estimator__class_weight': None, 'estimator__criterion': 'gini', 'estimator__max_depth': None, 'estimator__max_features': 'sqrt', 'estimator__max_leaf_nodes': None, 'estimator__max_samples': None, 'estimator__min_impurity_decrease': 0.0, 'estimator__min_samples_leaf': 1, 'estimator__min_samples_split': 2, 'estimator__min_weight_fraction_leaf': 0.0, 'estimator__monotonic_cst': None, 'estimator__n_estimators': 100, 'estimator__n_jobs': None, 'estimator__oob_score': False, 'estimator__random_state': 42, 'estimator__verbose': 0, 'estimator__warm_start': False, 'estimator': RandomForestClassifier(random_state=42), 'n_jobs': None}\n"
     ]
    }
   ],
   "source": [
    "from sklearn.discriminant_analysis import QuadraticDiscriminantAnalysis\n",
    "from sklearn.ensemble import AdaBoostClassifier, RandomForestClassifier\n",
    "from sklearn.gaussian_process import GaussianProcessClassifier\n",
    "from sklearn.gaussian_process.kernels import RBF\n",
    "from sklearn.naive_bayes import GaussianNB\n",
    "from sklearn.neighbors import KNeighborsClassifier\n",
    "from sklearn.neural_network import MLPClassifier\n",
    "from sklearn.svm import SVC\n",
    "from sklearn.tree import DecisionTreeClassifier\n",
    "\n",
    "names = [\n",
    "    \"Nearest Neighbors\",\n",
    "    \"Decision Tree\",\n",
    "    \"Random Forest\",\n",
    "    \"AdaBoost\",\n",
    "    \"Naive Bayes\",\n",
    "]\n",
    "\n",
    "classifiers = [\n",
    "    KNeighborsClassifier(5),\n",
    "    DecisionTreeClassifier(random_state=42),\n",
    "    RandomForestClassifier(random_state=42),\n",
    "    AdaBoostClassifier(random_state=42),\n",
    "    GaussianNB(),\n",
    "]\n",
    "\n",
    "models = {name: clf for name, clf in zip(names, classifiers)}\n",
    "\n",
    "results = evaluate_models(models)\n"
   ]
  },
  {
   "cell_type": "code",
   "execution_count": null,
   "id": "c4772aa5",
   "metadata": {},
   "outputs": [
    {
     "name": "stdout",
     "output_type": "stream",
     "text": [
      " -- Sorted result --\n",
      "Random Forest : f2-test 0.9407343195310682 f2-train  1.0 test-fp 4 test-fn 9\n",
      "Decision Tree : f2-test 0.9332290095242384 f2-train  1.0 test-fp 5 test-fn 10\n",
      "Naive Bayes : f2-test 0.7564574203376353 f2-train  0.7337608297863116 test-fp 52 test-fn 30\n",
      "AdaBoost : f2-test 0.7321308165707225 f2-train  0.7338676001425131 test-fp 8 test-fn 40\n",
      "Nearest Neighbors : f2-test 0.6974038912427293 f2-train  0.7460419909855751 test-fp 6 test-fn 45\n",
      "--- Random Forest\n",
      "{'bootstrap': True, 'ccp_alpha': 0.0, 'class_weight': None, 'criterion': 'gini', 'max_depth': None, 'max_features': 'sqrt', 'max_leaf_nodes': None, 'max_samples': None, 'min_impurity_decrease': 0.0, 'min_samples_leaf': 1, 'min_samples_split': 2, 'min_weight_fraction_leaf': 0.0, 'monotonic_cst': None, 'n_estimators': 100, 'n_jobs': None, 'oob_score': False, 'random_state': 42, 'verbose': 0, 'warm_start': False}\n",
      "--- Decision Tree\n",
      "{'ccp_alpha': 0.0, 'class_weight': None, 'criterion': 'gini', 'max_depth': None, 'max_features': None, 'max_leaf_nodes': None, 'min_impurity_decrease': 0.0, 'min_samples_leaf': 1, 'min_samples_split': 2, 'min_weight_fraction_leaf': 0.0, 'monotonic_cst': None, 'random_state': 42, 'splitter': 'best'}\n"
     ]
    }
   ],
   "source": [
    "print(\" -- Sorted result --\")\n",
    "for result in results:\n",
    "    print(f\"{result[\"name\"]} : f2-test {result[\"f2_test\"]} accuracy {result[\"test_accuracy\"]} test-fp {result[\"test_fp\"]} test-fn {result[\"test_fn\"]}\")\n",
    "\n",
    "result_dict = {result[\"name\"]:result for result in results}\n",
    "\n",
    "print(\"--- Random Forest\")\n",
    "moclr=result_dict[\"Random Forest\"][\"multi-output-classifier\"]\n",
    "clr = moclr.get_params()[\"estimator\"]\n",
    "print(clr.get_params())\n",
    "\n",
    "print(\"--- Decision Tree\")\n",
    "moclr=result_dict[\"Decision Tree\"][\"multi-output-classifier\"]\n",
    "clr = moclr.get_params()[\"estimator\"]\n",
    "print(clr.get_params())"
   ]
  },
  {
   "cell_type": "markdown",
   "id": "e467cd16",
   "metadata": {},
   "source": [
    "For our threshold predictor\n",
    "- F2 Score on Test Data: 0.8053615831757778\n",
    "- Recall on Test Data: 0.9280162842339008\n",
    "- Precision on Test Data: 0.6571438277056866\n",
    "- Accuracy on Test Data: 0.9275\n",
    "\n",
    "Random Forest and Decision Tree performed much better\n"
   ]
  }
 ],
 "metadata": {
  "kernelspec": {
   "display_name": "ml",
   "language": "python",
   "name": "python3"
  },
  "language_info": {
   "codemirror_mode": {
    "name": "ipython",
    "version": 3
   },
   "file_extension": ".py",
   "mimetype": "text/x-python",
   "name": "python",
   "nbconvert_exporter": "python",
   "pygments_lexer": "ipython3",
   "version": "3.13.2"
  }
 },
 "nbformat": 4,
 "nbformat_minor": 5
}
