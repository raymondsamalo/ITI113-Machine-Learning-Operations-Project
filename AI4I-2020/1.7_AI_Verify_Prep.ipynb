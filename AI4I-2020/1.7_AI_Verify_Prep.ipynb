{
 "cells": [
  {
   "cell_type": "markdown",
   "id": "cd1b641a",
   "metadata": {},
   "source": [
    "# AIVerify\n",
    "\n",
    "This notebook prepare dataset and model for AIVerify\n",
    "\n"
   ]
  },
  {
   "cell_type": "code",
   "execution_count": 10,
   "id": "bd304f03",
   "metadata": {},
   "outputs": [],
   "source": [
    "import pandas as pd\n",
    "import numpy as np\n",
    "import seaborn as sns\n",
    "import matplotlib.pyplot as plt\n",
    "import warnings\n",
    "import pickle\n",
    "\n",
    "warnings.filterwarnings(\"ignore\")"
   ]
  },
  {
   "cell_type": "code",
   "execution_count": 11,
   "id": "3928ea80",
   "metadata": {},
   "outputs": [
    {
     "name": "stdout",
     "output_type": "stream",
     "text": [
      "Index(['Type', 'Rotational speed (rpm)', 'Tool wear (min)', 'Strain (minNm)',\n",
      "       'Power (W)', 'Temperature Difference (K)'],\n",
      "      dtype='object')\n",
      "Index(['Machine failure', 'TWF', 'HDF', 'PWF', 'OSF', 'RNF'], dtype='object')\n"
     ]
    }
   ],
   "source": [
    "X_train=pd.read_csv('data/X_train.csv')\n",
    "y_train=pd.read_csv('data/y_train.csv')\n",
    "X_test=pd.read_csv('data/X_test.csv')\n",
    "y_test=pd.read_csv('data/y_test.csv')\n",
    "\n",
    "y_train_omf = y_train[['Machine failure']]\n",
    "y_test_omf = y_test[['Machine failure']]\n",
    "\n",
    "X_train_reduced = X_train.drop(columns=['Torque (Nm)', 'Process temperature (K)', 'Air temperature (K)'])\n",
    "X_test_reduced = X_test.drop(columns=['Torque (Nm)', 'Process temperature (K)', 'Air temperature (K)'])\n",
    "\n",
    "print(X_train_reduced.columns)\n",
    "print(y_test.columns)"
   ]
  },
  {
   "cell_type": "code",
   "execution_count": 12,
   "id": "dfbc00cd",
   "metadata": {},
   "outputs": [
    {
     "name": "stdout",
     "output_type": "stream",
     "text": [
      "   Type  Rotational speed (rpm)  Tool wear (min)  Strain (minNm)    Power (W)  \\\n",
      "0     0                    1372              215         11954.0  7988.358024   \n",
      "1     1                    1446              121          5178.8  6480.979981   \n",
      "2     1                    1470               85          3893.0  7050.362233   \n",
      "3     0                    1540               96          3715.2  6241.087966   \n",
      "4     0                    1615              199          5731.2  4870.725250   \n",
      "\n",
      "   Temperature Difference (K)  Machine failure  \n",
      "0                        10.5                1  \n",
      "1                         9.8                0  \n",
      "2                         9.4                0  \n",
      "3                         8.9                0  \n",
      "4                        11.3                0  \n"
     ]
    }
   ],
   "source": [
    "from sklearn.ensemble import  RandomForestClassifier\n",
    "classifier = RandomForestClassifier(random_state=42, max_depth=10) \n",
    "classifier.fit(X_train_reduced, y_train_omf)\n",
    "\n",
    "train = X_train_reduced.copy()\n",
    "train[\"Machine failure\"]=y_train_omf\n",
    "\n",
    "test = X_test_reduced.copy()\n",
    "test[\"Machine failure\"]=y_test_omf\n",
    "print(test.head())"
   ]
  },
  {
   "cell_type": "code",
   "execution_count": 13,
   "id": "7568bd7a",
   "metadata": {},
   "outputs": [],
   "source": [
    "pickle.dump(train, open(\"aiverify/ai4i_2020_training.sav\", \"wb+\"))\n",
    "pickle.dump(test, open(\"aiverify/ai4i_2020_testing.sav\", \"wb+\"))\n",
    "pickle.dump(classifier, open(\"aiverify/ai4i_2020_random_forest_classifier.sav\", \"wb+\"))\n"
   ]
  },
  {
   "cell_type": "code",
   "execution_count": null,
   "id": "6eab3be5",
   "metadata": {},
   "outputs": [],
   "source": []
  }
 ],
 "metadata": {
  "kernelspec": {
   "display_name": "ml",
   "language": "python",
   "name": "python3"
  },
  "language_info": {
   "codemirror_mode": {
    "name": "ipython",
    "version": 3
   },
   "file_extension": ".py",
   "mimetype": "text/x-python",
   "name": "python",
   "nbconvert_exporter": "python",
   "pygments_lexer": "ipython3",
   "version": "3.13.2"
  }
 },
 "nbformat": 4,
 "nbformat_minor": 5
}
