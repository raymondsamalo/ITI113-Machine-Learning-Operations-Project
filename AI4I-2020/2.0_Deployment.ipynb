{
 "cells": [
  {
   "cell_type": "code",
   "execution_count": 1,
   "id": "055dd094",
   "metadata": {},
   "outputs": [
    {
     "name": "stdout",
     "output_type": "stream",
     "text": [
      "Note: you may need to restart the kernel to use updated packages.\n"
     ]
    }
   ],
   "source": [
    "%pip install gradio --quiet\n"
   ]
  },
  {
   "cell_type": "code",
   "execution_count": 2,
   "id": "fc6effb8",
   "metadata": {},
   "outputs": [
    {
     "name": "stdout",
     "output_type": "stream",
     "text": [
      "{'Air temperature (K)': {'dtype': 'float', 'max': 304.5, 'min': 295.3},\n",
      " 'Process temperature (K)': {'dtype': 'float', 'max': 313.8, 'min': 305.7},\n",
      " 'Rotational speed (rpm)': {'dtype': 'float', 'max': 2886.0, 'min': 1168.0},\n",
      " 'Tool wear (min)': {'dtype': 'float', 'max': 253, 'min': 0},\n",
      " 'Torque (Nm)': {'dtype': 'float', 'max': 76.6, 'min': 3.8},\n",
      " 'Type': {'dtype': 'int', 'max': 2, 'min': 0}}\n"
     ]
    },
    {
     "name": "stderr",
     "output_type": "stream",
     "text": [
      "/opt/anaconda3/envs/ml/lib/python3.13/site-packages/sklearn/base.py:442: InconsistentVersionWarning: Trying to unpickle estimator DecisionTreeClassifier from version 1.6.1 when using version 1.7.1. This might lead to breaking code or invalid results. Use at your own risk. For more info please refer to:\n",
      "https://scikit-learn.org/stable/model_persistence.html#security-maintainability-limitations\n",
      "  warnings.warn(\n",
      "/opt/anaconda3/envs/ml/lib/python3.13/site-packages/sklearn/base.py:442: InconsistentVersionWarning: Trying to unpickle estimator RandomForestClassifier from version 1.6.1 when using version 1.7.1. This might lead to breaking code or invalid results. Use at your own risk. For more info please refer to:\n",
      "https://scikit-learn.org/stable/model_persistence.html#security-maintainability-limitations\n",
      "  warnings.warn(\n",
      "/opt/anaconda3/envs/ml/lib/python3.13/site-packages/sklearn/base.py:442: InconsistentVersionWarning: Trying to unpickle estimator MultiOutputClassifier from version 1.6.1 when using version 1.7.1. This might lead to breaking code or invalid results. Use at your own risk. For more info please refer to:\n",
      "https://scikit-learn.org/stable/model_persistence.html#security-maintainability-limitations\n",
      "  warnings.warn(\n"
     ]
    }
   ],
   "source": [
    "import pickle\n",
    "import json\n",
    "import pprint\n",
    "ml_model = pickle.load(open('ml_predictor.pkl', 'rb'))\n",
    "with open(\"spec.json\") as f:\n",
    "    spec=json.load(f)\n",
    "\n",
    "pprint.pprint(spec)"
   ]
  },
  {
   "cell_type": "code",
   "execution_count": null,
   "id": "0ac84006",
   "metadata": {},
   "outputs": [
    {
     "name": "stdout",
     "output_type": "stream",
     "text": [
      "* Running on local URL:  http://127.0.0.1:7860\n",
      "* To create a public link, set `share=True` in `launch()`.\n"
     ]
    },
    {
     "data": {
      "text/html": [
       "<div><iframe src=\"http://127.0.0.1:7860/\" width=\"100%\" height=\"500\" allow=\"autoplay; camera; microphone; clipboard-read; clipboard-write;\" frameborder=\"0\" allowfullscreen></iframe></div>"
      ],
      "text/plain": [
       "<IPython.core.display.HTML object>"
      ]
     },
     "metadata": {},
     "output_type": "display_data"
    },
    {
     "data": {
      "text/plain": []
     },
     "execution_count": 3,
     "metadata": {},
     "output_type": "execute_result"
    },
    {
     "name": "stdout",
     "output_type": "stream",
     "text": [
      "   Machine failure  TWF  HDF  PWF  OSF  RNF\n",
      "0                1    0    1    1    1    0\n"
     ]
    }
   ],
   "source": [
    "import numpy as np\n",
    "import pandas as pd\n",
    "import gradio as gr\n",
    "headers=['Machine failure', 'TWF', 'HDF', 'PWF', 'OSF', 'RNF']\n",
    "label_descriptions = {\n",
    "    'Machine failure':'Machine failure',\n",
    "    'TWF': 'Tool Wear Failure',\n",
    "    'HDF': 'Heat Dissipation Failure',\n",
    "    'PWF': 'Power Failure',\n",
    "    'OSF': 'Overstrain Failure',\n",
    "    'RNF': 'Random Failure'\n",
    "}\n",
    "machine_types={\n",
    "    \"Low\":0,\n",
    "    \"Medium\":1,\n",
    "    \"High\":2\n",
    "}\n",
    "#['Type', 'Rotational speed (rpm)', 'Tool wear (min)', 'Strain (minNm)','Power (W)', 'Temperature Difference (K)'],\n",
    "def predict(air_temperature, process_temperature, rotational_speed, torque, tool_wear, machine_type):\n",
    "    df = pd.DataFrame(columns=['Type', 'Rotational speed (rpm)', 'Tool wear (min)', 'Strain (minNm)','Power (W)', 'Temperature Difference (K)'])\n",
    "    if machine_type is None:\n",
    "        machine_type = 'Low'\n",
    "    machine_type_value = machine_types[machine_type]\n",
    "    df['Type'] = [machine_type_value]\n",
    "    df['Rotational speed (rpm)']=[rotational_speed]\n",
    "    df['Tool wear (min)']=[tool_wear]\n",
    "    df['Strain (minNm)'] = df['Tool wear (min)'] * torque \n",
    "    df['Power (W)'] =  df['Rotational speed (rpm)'] * torque * 2 * np.pi / 60\n",
    "    df['Temperature Difference (K)'] = [process_temperature - air_temperature]\n",
    "\n",
    "    y_probs=ml_model.predict_proba(df)\n",
    "    thresholds = [0.5,0.5, 0.5,0.5,0.5,0.5]\n",
    "    y_pred = np.column_stack([\n",
    "        (y_probs[i][:, 1] > thresholds[i]).astype(int) for i in range(6)\n",
    "    ])\n",
    "    y_pred=pd.DataFrame(y_pred, columns=['Machine failure', 'TWF', 'HDF', 'PWF', 'OSF', 'RNF'])\n",
    "    print(y_pred)\n",
    "    y_pred['Machine failure']=np.where((y_pred['HDF']==1)|(y_pred['PWF']==1)|(y_pred['OSF']==1)|(y_pred['TWF']==1)|(y_pred['RNF']==1),1,0)\n",
    "    failed = y_pred[\"Machine failure\"].sum()>0\n",
    "    result = \"\"\n",
    "    maintenance = \"No Action Needed\"\n",
    "    if failed:\n",
    "        for c in y_pred.columns:\n",
    "            value = y_pred[c][0]\n",
    "            if value:\n",
    "                result += f\"\\n - {label_descriptions[c]}\"\n",
    "            maintenance=\"Need Maintenance\" \n",
    "    return result, maintenance\n",
    "\n",
    "\n",
    "inputs=[]\n",
    "for s, limits in spec.items():\n",
    "    if s=='Type':\n",
    "        continue\n",
    "    max_s=limits[\"max\"]\n",
    "    min_s=limits[\"min\"]\n",
    "    inputs.append(gr.Slider(min_s, max_s, label=s)) \n",
    "inputs.append(gr.Radio([\"Low\", \"Medium\", \"High\"], label=\"Type\", value=\"Low\"))\n",
    "demo = gr.Interface(\n",
    "    title=\"ML Predictive Maintenance\",\n",
    "    fill_width=True,\n",
    "    fn=predict,\n",
    "    inputs=inputs,\n",
    "    outputs=[\n",
    "             # gr.Dataframe(datatype=[\"str\",\"bool\"], row_count=5, col_count=2, show_fullscreen_button=True),\n",
    "             gr.components.Textbox(label=\"ML Analysis\",lines=6), \n",
    "             gr.components.Textbox(label=\"Action\")]\n",
    ")\n",
    "# Type,Air temperature (K),Process temperature (K),Rotational speed (rpm),Torque (Nm),Tool wear (min),Strain (minNm),Power (W),Temperature Difference (K)\n",
    "\n",
    "# 0,304.4,313.7,1509,35.0,205,7175.0,5530.77386664483,9.300000000000011\n",
    "\n",
    "demo.launch()"
   ]
  },
  {
   "cell_type": "markdown",
   "id": "94bee983",
   "metadata": {},
   "source": [
    "- TWF fail if Tool Wear (Min) > 198\n",
    "- OSF fail if Strain (minNm) >= 11019.2\n",
    "- HDF Fail if Rotational Speed (rpm) <= 1379 and Temperature Difference <=8.599999999999966\n",
    "- PWF fail if Power (W) <= 3521.78819652723 or Power (W) >= 8998.024014705741"
   ]
  }
 ],
 "metadata": {
  "kernelspec": {
   "display_name": "ml",
   "language": "python",
   "name": "python3"
  },
  "language_info": {
   "codemirror_mode": {
    "name": "ipython",
    "version": 3
   },
   "file_extension": ".py",
   "mimetype": "text/x-python",
   "name": "python",
   "nbconvert_exporter": "python",
   "pygments_lexer": "ipython3",
   "version": "3.13.2"
  }
 },
 "nbformat": 4,
 "nbformat_minor": 5
}
