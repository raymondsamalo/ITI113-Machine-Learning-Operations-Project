{
 "cells": [
  {
   "cell_type": "markdown",
   "id": "8f3ea5fc",
   "metadata": {},
   "source": [
    "# MULTI-LABEL SMOTE"
   ]
  },
  {
   "cell_type": "markdown",
   "id": "135f50c2",
   "metadata": {},
   "source": [
    "based on https://www.kaggle.com/code/tolgadincer/upsampling-multilabel-data-with-mlsmote"
   ]
  },
  {
   "cell_type": "code",
   "execution_count": null,
   "id": "86a483a7",
   "metadata": {},
   "outputs": [],
   "source": [
    "import numpy as np\n",
    "import pandas as pd\n",
    "import random\n",
    "from sklearn.neighbors import NearestNeighbors"
   ]
  },
  {
   "cell_type": "code",
   "execution_count": null,
   "id": "a68a8d54",
   "metadata": {},
   "outputs": [],
   "source": [
    "from typing import Tuple\n",
    "\n",
    "\n",
    "class MultiLabelSMOTE:\n",
    "    \"\"\"\n",
    "    MultiLabelSMOTE class for generating synthetic samples for multi-label datasets.\n",
    "    This class implements the MLSMOTE algorithm to handle imbalanced multi-label datasets.\n",
    "    \"\"\"\n",
    "\n",
    "    def __init__(self, n_sample=100, neigh=5, random_state=None):\n",
    "        self.n_sample = n_sample\n",
    "        self.neigh = neigh\n",
    "        self.random_state = random_state\n",
    "    \n",
    "    def fit_resample(self, X, y)-> Tuple[pd.DataFrame, pd.DataFrame]:\n",
    "        \"\"\"\n",
    "        Fit the model and generate synthetic samples.\n",
    "        args:\n",
    "            X: pandas.DataFrame, input feature vector DataFrame\n",
    "            y: pandas.DataFrame, target vector DataFrame\n",
    "        return:\n",
    "            updated_X: pandas.DataFrame, augmented feature vector DataFrame\n",
    "            updated_Y: pandas.DataFrame, augmented target vector DataFrame\n",
    "        \"\"\"\n",
    "        if self.random_state is not None:\n",
    "            random.seed(self.random_state)\n",
    "        X_sub, y_sub = self.get_minority_samples(X, y, ql=[0.05, 1.])\n",
    "        new_X, new_y = self.generate_samples(X_sub, y_sub)\n",
    "        updated_X= pd.concat([X, new_X], ignore_index=True)\n",
    "        updated_Y= pd.concat([y, new_y], ignore_index=True)        \n",
    "        return updated_X, updated_Y\n",
    "\n",
    "    def get_tail_label(self, df: pd.DataFrame, ql=[0.05, 1.]) -> list:\n",
    "        irlbl = df.sum(axis=0)\n",
    "        irlbl = irlbl[(irlbl > irlbl.quantile(ql[0])) & ((irlbl < irlbl.quantile(ql[1])))]  # Filtering\n",
    "        irlbl = irlbl.max() / irlbl\n",
    "        threshold_irlbl = irlbl.median()\n",
    "        tail_label = irlbl[irlbl > threshold_irlbl].index.tolist()\n",
    "        return tail_label\n",
    "\n",
    "    def get_minority_samples(self, X: pd.DataFrame, y: pd.DataFrame, ql=[0.05, 1.]):\n",
    "        tail_labels = self.get_tail_label(y, ql=ql)\n",
    "        index = y[y[tail_labels].apply(lambda x: (x == 1).any(), axis=1)].index.tolist()\n",
    "        \n",
    "        X_sub = X[X.index.isin(index)].reset_index(drop = True)\n",
    "        y_sub = y[y.index.isin(index)].reset_index(drop = True)\n",
    "        return X_sub, y_sub\n",
    "\n",
    "    def nearest_neighbour(self, X: pd.DataFrame, neigh) -> list:\n",
    "        nbs = NearestNeighbors(n_neighbors=neigh, metric='euclidean', algorithm='kd_tree').fit(X)\n",
    "        _, indices = nbs.kneighbors(X)\n",
    "        return indices\n",
    "\n",
    "    def generate_samples(self, X, y):\n",
    "        \"\"\"\n",
    "        Give the augmented data using MLSMOTE algorithm\n",
    "        \n",
    "        args\n",
    "        X: pandas.DataFrame, input vector DataFrame\n",
    "        y: pandas.DataFrame, feature vector dataframe\n",
    "        n_sample: int, number of newly generated sample\n",
    "        \n",
    "        return\n",
    "        new_X: pandas.DataFrame, augmented feature vector data\n",
    "        target: pandas.DataFrame, augmented target vector data\n",
    "        \"\"\"\n",
    "        indices2 = self.nearest_neighbour(X, neigh=5)\n",
    "        n = len(indices2)\n",
    "        new_X = np.zeros((self.n_sample, X.shape[1]))\n",
    "        target = np.zeros((self.n_sample, y.shape[1]))\n",
    "        for i in range(self.n_sample):\n",
    "            reference = random.randint(0, n-1)\n",
    "            neighbor = random.choice(indices2[reference, 1:])\n",
    "            all_point = indices2[reference]\n",
    "            nn_df = y[y.index.isin(all_point)]\n",
    "            ser = nn_df.sum(axis = 0, skipna = True)\n",
    "            target[i] = np.array([1 if val > 0 else 0 for val in ser])\n",
    "            ratio = random.random()\n",
    "            gap = X.loc[reference,:] - X.loc[neighbor,:]\n",
    "            new_X[i] = np.array(X.loc[reference,:] + ratio * gap)\n",
    "        new_X = pd.DataFrame(new_X, columns=X.columns)\n",
    "        target = pd.DataFrame(target, columns=y.columns)\n",
    "        return new_X, target\n",
    "\n"
   ]
  }
 ],
 "metadata": {
  "kernelspec": {
   "display_name": "ml",
   "language": "python",
   "name": "python3"
  },
  "language_info": {
   "codemirror_mode": {
    "name": "ipython",
    "version": 3
   },
   "file_extension": ".py",
   "mimetype": "text/x-python",
   "name": "python",
   "nbconvert_exporter": "python",
   "pygments_lexer": "ipython3",
   "version": "3.13.2"
  }
 },
 "nbformat": 4,
 "nbformat_minor": 5
}
