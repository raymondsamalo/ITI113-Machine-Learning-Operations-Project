{
 "cells": [
  {
   "cell_type": "code",
   "execution_count": 2,
   "id": "055dd094",
   "metadata": {},
   "outputs": [
    {
     "name": "stdout",
     "output_type": "stream",
     "text": [
      "Note: you may need to restart the kernel to use updated packages.\n"
     ]
    }
   ],
   "source": [
    "%pip install gradio --quiet\n"
   ]
  },
  {
   "cell_type": "code",
   "execution_count": 3,
   "id": "fc6effb8",
   "metadata": {},
   "outputs": [
    {
     "name": "stdout",
     "output_type": "stream",
     "text": [
      "{'Air temperature _K_': {'dtype': 'float', 'max': 304.5, 'min': 295.3},\n",
      " 'Process temperature _K_': {'dtype': 'float', 'max': 313.8, 'min': 305.7},\n",
      " 'Rotational speed _rpm_': {'dtype': 'float', 'max': 2886.0, 'min': 1168.0},\n",
      " 'Tool wear _min_': {'dtype': 'float', 'max': 253, 'min': 0},\n",
      " 'Torque _Nm_': {'dtype': 'float', 'max': 76.6, 'min': 3.8},\n",
      " 'Type': {'dtype': 'int', 'max': 2, 'min': 0}}\n"
     ]
    }
   ],
   "source": [
    "import pickle\n",
    "import json\n",
    "import pprint\n",
    "ml_model = pickle.load(open('ml_predictor.pkl', 'rb'))\n",
    "with open(\"spec.json\") as f:\n",
    "    spec=json.load(f)\n",
    "\n",
    "pprint.pprint(spec)"
   ]
  },
  {
   "cell_type": "code",
   "execution_count": null,
   "id": "0ac84006",
   "metadata": {},
   "outputs": [
    {
     "name": "stdout",
     "output_type": "stream",
     "text": [
      "* Running on local URL:  http://127.0.0.1:7862\n",
      "* To create a public link, set `share=True` in `launch()`.\n"
     ]
    },
    {
     "data": {
      "text/html": [
       "<div><iframe src=\"http://127.0.0.1:7862/\" width=\"100%\" height=\"500\" allow=\"autoplay; camera; microphone; clipboard-read; clipboard-write;\" frameborder=\"0\" allowfullscreen></iframe></div>"
      ],
      "text/plain": [
       "<IPython.core.display.HTML object>"
      ]
     },
     "metadata": {},
     "output_type": "display_data"
    },
    {
     "data": {
      "text/plain": []
     },
     "execution_count": 7,
     "metadata": {},
     "output_type": "execute_result"
    },
    {
     "name": "stdout",
     "output_type": "stream",
     "text": [
      "100\n",
      "100\n",
      "0\n",
      "0\n",
      "0\n",
      "None\n"
     ]
    }
   ],
   "source": [
    "import numpy as np\n",
    "import pandas as pd\n",
    "import gradio as gr\n",
    "headers=['Machine failure', 'TWF', 'HDF', 'PWF', 'OSF', 'RNF']\n",
    "#['Type', 'Rotational speed _rpm_', 'Tool wear _min_', 'Strain _minNm_','Power _W_', 'Temperature Difference _K_'],\n",
    "def predict(air_temperature, process_temperature, rotational_speed, torque, tool_wear, machine_type):\n",
    "    print(air_temperature)\n",
    "    print(process_temperature)\n",
    "    print(rotational_speed)\n",
    "    print(tool_wear)\n",
    "    print(torque)\n",
    "    print(machine_type)\n",
    "    df = pd.DataFrame(columns=['Type', 'Rotational speed _rpm_', 'Tool wear _min_', 'Strain _minNm_','Power _W_', 'Temperature Difference _K_'])\n",
    "    df['Type'] = [machine_type]\n",
    "    df['Rotational speed _rpm_']=[rotational_speed]\n",
    "    df['Tool wear _min_']=[tool_wear]\n",
    "    df['Strain _minNm_'] = df['Tool wear _min_'] * torque \n",
    "    df['Power _W_'] =  df['Rotational speed _rpm_'] * torque * 2 * np.pi / 60\n",
    "    df['Temperature Difference _K_'] = [process_temperature - air_temperature]\n",
    "    \"\"\"\n",
    "    # 1,300.3,311.2,1381,65.2,136,8867.2,9429.09241468031,10.899999999999977\n",
    "    # 1,1381,136,8867.2,9429.09241468031,10.899999999999977\n",
    "    # result 1,0,0,1,0,0\n",
    "    df['Type'] = [1]\n",
    "    df['Rotational speed _rpm_']=[1381]\n",
    "    df['Tool wear _min_']=[136]\n",
    "    df['Strain _minNm_'] = [8867.2] \n",
    "    df['Power _W_'] =  [9429.09241468031]\n",
    "    df['Temperature Difference _K_'] = [10.899999999999977]    \n",
    "    \"\"\"\n",
    "    y_pred=ml_model.predict(df)\n",
    "    y_pred=pd.DataFrame(y_pred, columns=['Machine failure', 'TWF', 'HDF', 'PWF', 'OSF', 'RNF'])\n",
    "    # when any failed, mark machine Failure as failed\n",
    "    y_pred[\"Machine failure\"] = np.where(y_pred[\"TWF\"]==1 | y_pred[\"HDF\"]==1 | y_pred[\"PWF\"]==1 | y_pred[\"OSF\"]==1 | y_pred[\"RNF\"]==1, 1, 0)\n",
    "    result = {}\n",
    "    for c in y_pred.columns:\n",
    "        result[c]=np.where(y_pred[c]==1,True, False)\n",
    "    maintenance=\"Need Maintenance\" if y_pred[\"Machine failure\"].sum()>0 else \"No action needed\"\n",
    "    return result, maintenance\n",
    "\n",
    "demo = gr.Interface(\n",
    "    fn=predict,\n",
    "    inputs=[\n",
    "            gr.Slider(100, 350, label=\"Air temperature\"),\n",
    "            gr.Slider(100, 350, label=\"Process temperature\"),\n",
    "            gr.Number(label=\"Rotational speed\"),\n",
    "            gr.Number(label=\"Torque\"),\n",
    "            gr.Number(label=\"Tool wear\"),\n",
    "            gr.Radio([\"Low\", \"Medium\", \"High\"], label=\"Type\"),\n",
    "            ],\n",
    "    outputs=[gr.Dataframe(datatype=[\"str\",\"bool\"], row_count=5, col_count=2, show_fullscreen_button=True), \n",
    "             gr.components.Textbox(label=\"Action\")]\n",
    ")\n",
    "demo.launch()"
   ]
  },
  {
   "cell_type": "markdown",
   "id": "94bee983",
   "metadata": {},
   "source": [
    "- TWF fail if Tool Wear (Min) > 198\n",
    "- OSF fail if Strain (minNm) >= 11019.2\n",
    "- HDF Fail if Rotational Speed (rpm) <= 1379 and Temperature Difference <=8.599999999999966\n",
    "- PWF fail if Power _W_ <= 3521.78819652723 or Power _W_ >= 8998.024014705741"
   ]
  }
 ],
 "metadata": {
  "kernelspec": {
   "display_name": "ml",
   "language": "python",
   "name": "python3"
  },
  "language_info": {
   "codemirror_mode": {
    "name": "ipython",
    "version": 3
   },
   "file_extension": ".py",
   "mimetype": "text/x-python",
   "name": "python",
   "nbconvert_exporter": "python",
   "pygments_lexer": "ipython3",
   "version": "3.13.2"
  }
 },
 "nbformat": 4,
 "nbformat_minor": 5
}
