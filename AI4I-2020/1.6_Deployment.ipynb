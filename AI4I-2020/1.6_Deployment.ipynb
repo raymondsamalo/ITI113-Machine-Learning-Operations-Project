{
 "cells": [
  {
   "cell_type": "code",
   "execution_count": 28,
   "id": "055dd094",
   "metadata": {},
   "outputs": [
    {
     "name": "stdout",
     "output_type": "stream",
     "text": [
      "Note: you may need to restart the kernel to use updated packages.\n"
     ]
    }
   ],
   "source": [
    "%pip install gradio --quiet\n"
   ]
  },
  {
   "cell_type": "code",
   "execution_count": 29,
   "id": "fc6effb8",
   "metadata": {},
   "outputs": [
    {
     "name": "stdout",
     "output_type": "stream",
     "text": [
      "{'Air temperature _K_': {'dtype': 'float', 'max': 304.5, 'min': 295.3},\n",
      " 'Process temperature _K_': {'dtype': 'float', 'max': 313.8, 'min': 305.7},\n",
      " 'Rotational speed _rpm_': {'dtype': 'float', 'max': 2886.0, 'min': 1168.0},\n",
      " 'Tool wear _min_': {'dtype': 'float', 'max': 253, 'min': 0},\n",
      " 'Torque _Nm_': {'dtype': 'float', 'max': 76.6, 'min': 3.8},\n",
      " 'Type': {'dtype': 'int', 'max': 2, 'min': 0}}\n"
     ]
    }
   ],
   "source": [
    "import pickle\n",
    "import json\n",
    "import pprint\n",
    "ml_model = pickle.load(open('ml_predictor.pkl', 'rb'))\n",
    "with open(\"spec.json\") as f:\n",
    "    spec=json.load(f)\n",
    "\n",
    "pprint.pprint(spec)"
   ]
  },
  {
   "cell_type": "code",
   "execution_count": null,
   "id": "0ac84006",
   "metadata": {},
   "outputs": [
    {
     "name": "stdout",
     "output_type": "stream",
     "text": [
      "   Type  Rotational speed _rpm_  Tool wear _min_  Strain _minNm_    Power _W_  \\\n",
      "0     1                    1381              136          8867.2  9429.092415   \n",
      "\n",
      "   Temperature Difference _K_  \n",
      "0                        10.9  \n",
      "   Machine failure  TWF  HDF  PWF  OSF  RNF\n",
      "0                1    0    0    1    0    0\n"
     ]
    }
   ],
   "source": [
    "import numpy as np\n",
    "import pandas as pd\n",
    "#['Type', 'Rotational speed _rpm_', 'Tool wear _min_', 'Strain _minNm_','Power _W_', 'Temperature Difference _K_'],\n",
    "def predict(air_temperature,process_temperature, rotational_speed, tool_wear, torque, machine_type):\n",
    "    df = pd.DataFrame(columns=['Type', 'Rotational speed _rpm_', 'Tool wear _min_', 'Strain _minNm_','Power _W_', 'Temperature Difference _K_'])\n",
    "    df['Type'] = [machine_type]\n",
    "    df['Rotational speed _rpm_']=[rotational_speed]\n",
    "    df['Tool wear _min_']=[tool_wear]\n",
    "    df['Strain _minNm_'] = df['Tool wear _min_'] * torque \n",
    "    df['Power _W_'] =  df['Rotational speed _rpm_'] * torque * 2 * np.pi / 60\n",
    "    df['Temperature Difference _K_'] = [process_temperature - air_temperature]\n",
    "\n",
    "    # 1,300.3,311.2,1381,65.2,136,8867.2,9429.09241468031,10.899999999999977\n",
    "    # 1,1381,136,8867.2,9429.09241468031,10.899999999999977\n",
    "    # result 1,0,0,1,0,0\n",
    "    df['Type'] = [1]\n",
    "    df['Rotational speed _rpm_']=[1381]\n",
    "    df['Tool wear _min_']=[136]\n",
    "    df['Strain _minNm_'] = [8867.2] \n",
    "    df['Power _W_'] =  [9429.09241468031]\n",
    "    df['Temperature Difference _K_'] = [10.899999999999977]    \n",
    "    y_pred=ml_model.predict(df)\n",
    "    print(df.head())\n",
    "    y_pred=pd.DataFrame(y_pred, columns=['Machine failure', 'TWF', 'HDF', 'PWF', 'OSF', 'RNF'])\n",
    "    return y_pred\n",
    "\n",
    "\n",
    "print(predict(0,0, 0, 0, 0,0))"
   ]
  },
  {
   "cell_type": "markdown",
   "id": "94bee983",
   "metadata": {},
   "source": [
    "- TWF fail if Tool Wear (Min) > 198\n",
    "- OSF fail if Strain (minNm) >= 11019.2\n",
    "- HDF Fail if Rotational Speed (rpm) <= 1379 and Temperature Difference <=8.599999999999966\n",
    "- PWF fail if Power _W_ <= 3521.78819652723 or Power _W_ >= 8998.024014705741"
   ]
  }
 ],
 "metadata": {
  "kernelspec": {
   "display_name": "ml",
   "language": "python",
   "name": "python3"
  },
  "language_info": {
   "codemirror_mode": {
    "name": "ipython",
    "version": 3
   },
   "file_extension": ".py",
   "mimetype": "text/x-python",
   "name": "python",
   "nbconvert_exporter": "python",
   "pygments_lexer": "ipython3",
   "version": "3.13.2"
  }
 },
 "nbformat": 4,
 "nbformat_minor": 5
}
